{
 "cells": [
  {
   "cell_type": "code",
   "execution_count": 6,
   "id": "e5c1cb1c-a7ac-4d13-a9fd-ee0466fd6a74",
   "metadata": {},
   "outputs": [
    {
     "data": {
      "text/plain": [
       "'video'"
      ]
     },
     "execution_count": 6,
     "metadata": {},
     "output_type": "execute_result"
    }
   ],
   "source": [
    "extension=\"image\" if \"mp4\" in [\"jpeg\",\"jpg\",\"png\",\"gif\",\"tif\",\"psd\",\"pdf\",\"eps\",\"ai\",\"indd\",\"svg\"] else \"video\"\n",
    "extension"
   ]
  },
  {
   "cell_type": "code",
   "execution_count": null,
   "id": "5c696b81-b069-4f0c-93c7-0b0dcd23f13d",
   "metadata": {},
   "outputs": [],
   "source": []
  }
 ],
 "metadata": {
  "kernelspec": {
   "display_name": "Python 3",
   "language": "python",
   "name": "python3"
  },
  "language_info": {
   "codemirror_mode": {
    "name": "ipython",
    "version": 3
   },
   "file_extension": ".py",
   "mimetype": "text/x-python",
   "name": "python",
   "nbconvert_exporter": "python",
   "pygments_lexer": "ipython3",
   "version": "3.9.5"
  }
 },
 "nbformat": 4,
 "nbformat_minor": 5
}
