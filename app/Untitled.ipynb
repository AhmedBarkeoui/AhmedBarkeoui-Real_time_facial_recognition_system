{
 "cells": [
  {
   "cell_type": "code",
   "execution_count": 1,
   "id": "e5c1cb1c-a7ac-4d13-a9fd-ee0466fd6a74",
   "metadata": {},
   "outputs": [
    {
     "data": {
      "text/plain": [
       "'video'"
      ]
     },
     "execution_count": 1,
     "metadata": {},
     "output_type": "execute_result"
    }
   ],
   "source": [
    "extension=\"image\" if \"mp4\" in [\"jpeg\",\"jpg\",\"png\",\"gif\",\"tif\",\"psd\",\"pdf\",\"eps\",\"ai\",\"indd\",\"svg\"] else \"video\"\n",
    "extension"
   ]
  },
  {
   "cell_type": "code",
   "execution_count": 6,
   "id": "5c696b81-b069-4f0c-93c7-0b0dcd23f13d",
   "metadata": {},
   "outputs": [
    {
     "data": {
      "text/plain": [
       "{'Cristiano ronaldo ': '28/06/2021 16:01:17',\n",
       " 'Eya gargah ': '27/07/2021 03:54:07',\n",
       " 'Oussayma khedher ': '16/05/2021 18:14:13',\n",
       " 'Sadok laouissi ': '14/05/2021 20:15:07',\n",
       " 'Yassine benhamida ': '24/07/2021 23:00:27',\n",
       " 'Achref saad ': '25/07/2021 00:43:20',\n",
       " 'Ahmed barkeoui ': '26/07/2021 16:41:33'}"
      ]
     },
     "execution_count": 6,
     "metadata": {},
     "output_type": "execute_result"
    }
   ],
   "source": [
    "import numpy as np\n",
    "Data_Added =  np.load('../Libraries/Date_Added.npy', allow_pickle= True ).item()\n",
    "Data_Added "
   ]
  },
  {
   "cell_type": "code",
   "execution_count": 9,
   "id": "9376f061-07b8-4627-9437-76a5fc582619",
   "metadata": {},
   "outputs": [],
   "source": [
    "Data_Added  = {}"
   ]
  },
  {
   "cell_type": "code",
   "execution_count": 10,
   "id": "95cf0f26-5840-4065-ad60-d3350b780a24",
   "metadata": {},
   "outputs": [
    {
     "data": {
      "text/plain": [
       "{'Cristiano ronaldo ': '28/06/2021 16:01:17',\n",
       " 'Eya gargah ': '27/07/2021 03:54:07',\n",
       " 'Oussayma khedher ': '16/05/2021 18:14:13',\n",
       " 'Sadok laouissi ': '14/05/2021 20:15:07',\n",
       " 'Yassine ben hamida ': '24/07/2021 23:00:27',\n",
       " 'Achref saad ': '25/07/2021 00:43:20',\n",
       " 'Ahmed barkeoui ': '26/07/2021 16:41:33',\n",
       " 'Khaled jallouli ': '26/07/2021 16:41:33'}"
      ]
     },
     "execution_count": 10,
     "metadata": {},
     "output_type": "execute_result"
    }
   ],
   "source": [
    "Data_Added[\"Cristiano ronaldo \"]= '28/06/2021 16:01:17'\n",
    "Data_Added[\"Eya gargah \"]= '27/07/2021 03:54:07'\n",
    "Data_Added[\"Oussayma khedher \"]= '16/05/2021 18:14:13'\n",
    "Data_Added[\"Sadok laouissi \"]= '14/05/2021 20:15:07'\n",
    "Data_Added[\"Yassine ben hamida \"]= '24/07/2021 23:00:27'\n",
    "Data_Added[\"Achref saad \"]= '25/07/2021 00:43:20'\n",
    "Data_Added[\"Ahmed barkeoui \"]= '26/07/2021 16:41:33'\n",
    "Data_Added[\"Khaled jallouli \"]= '26/07/2021 16:41:33'\n",
    "\n",
    "Data_Added"
   ]
  },
  {
   "cell_type": "code",
   "execution_count": 12,
   "id": "992dd0dc-dc8a-4dc4-b883-5325db0b6271",
   "metadata": {},
   "outputs": [],
   "source": [
    "data = \"01:34:04\""
   ]
  },
  {
   "cell_type": "code",
   "execution_count": 14,
   "id": "c2f95705-40e9-4772-8c6f-416e0e9e46fe",
   "metadata": {},
   "outputs": [
    {
     "data": {
      "text/plain": [
       "'01:34:03'"
      ]
     },
     "execution_count": 14,
     "metadata": {},
     "output_type": "execute_result"
    }
   ],
   "source": [
    "start_max = data.split(':')[0]+\":\"+data.split(':')[1]+\":\"+str(int(data.split(':')[2])-1).zfill(2)\n",
    "start_max"
   ]
  },
  {
   "cell_type": "code",
   "execution_count": 5,
   "id": "65792db4-2067-4092-9abc-50a075820ac5",
   "metadata": {},
   "outputs": [
    {
     "data": {
      "text/plain": [
       "'01'"
      ]
     },
     "execution_count": 5,
     "metadata": {},
     "output_type": "execute_result"
    }
   ],
   "source": [
    "str(1).zfill(2)"
   ]
  },
  {
   "cell_type": "code",
   "execution_count": 7,
   "id": "67879674-af92-4ce1-9ce9-f7b1394d6e09",
   "metadata": {},
   "outputs": [
    {
     "name": "stdout",
     "output_type": "stream",
     "text": [
      "56\n"
     ]
    }
   ],
   "source": [
    "print(str(56).zfill(2))"
   ]
  },
  {
   "cell_type": "code",
   "execution_count": 5,
   "id": "c91e8b5b-1863-443a-a0fe-ed40c623a156",
   "metadata": {},
   "outputs": [
    {
     "ename": "KeyError",
     "evalue": "'Lionel messi '",
     "output_type": "error",
     "traceback": [
      "\u001b[1;31m---------------------------------------------------------------------------\u001b[0m",
      "\u001b[1;31mKeyError\u001b[0m                                  Traceback (most recent call last)",
      "\u001b[1;32m<ipython-input-5-e2e94b69efb5>\u001b[0m in \u001b[0;36m<module>\u001b[1;34m\u001b[0m\n\u001b[1;32m----> 1\u001b[1;33m \u001b[1;32mdel\u001b[0m \u001b[0mData_Added\u001b[0m\u001b[1;33m[\u001b[0m\u001b[1;34m'Lionel messi '\u001b[0m\u001b[1;33m]\u001b[0m\u001b[1;33m\u001b[0m\u001b[1;33m\u001b[0m\u001b[0m\n\u001b[0m\u001b[0;32m      2\u001b[0m \u001b[0mData_Added\u001b[0m\u001b[1;33m\u001b[0m\u001b[1;33m\u001b[0m\u001b[0m\n",
      "\u001b[1;31mKeyError\u001b[0m: 'Lionel messi '"
     ]
    }
   ],
   "source": [
    "del Data_Added['Lionel messi ']\n",
    "Data_Added"
   ]
  },
  {
   "cell_type": "code",
   "execution_count": 11,
   "id": "7119636e-802c-4a3c-8d9f-9566a2596f1e",
   "metadata": {},
   "outputs": [],
   "source": [
    "np.save(\"../Libraries/Date_Added.npy\", Data_Added)"
   ]
  },
  {
   "cell_type": "code",
   "execution_count": 1,
   "id": "e9695849-faa8-4a80-b491-34a269d9c07c",
   "metadata": {
    "collapsed": true,
    "jupyter": {
     "outputs_hidden": true
    },
    "tags": []
   },
   "outputs": [
    {
     "data": {
      "text/plain": [
       "['Achref_saad_001-0',\n",
       " 'Achref_saad_001-1',\n",
       " 'Achref_saad_001-2',\n",
       " 'Achref_saad_001-3',\n",
       " 'Achref_saad_001-4',\n",
       " 'Achref_saad_001-5',\n",
       " 'Achref_saad_001-6',\n",
       " 'Achref_saad_001-7',\n",
       " 'Achref_saad_001-8',\n",
       " 'Achref_saad_001-9',\n",
       " 'Achref_saad_002-0',\n",
       " 'Achref_saad_002-1',\n",
       " 'Achref_saad_002-2',\n",
       " 'Achref_saad_002-3',\n",
       " 'Achref_saad_002-4',\n",
       " 'Achref_saad_002-5',\n",
       " 'Achref_saad_002-6',\n",
       " 'Achref_saad_002-7',\n",
       " 'Achref_saad_002-8',\n",
       " 'Achref_saad_002-9',\n",
       " 'Ahmed_barkeoui_001-0',\n",
       " 'Ahmed_barkeoui_001-1',\n",
       " 'Ahmed_barkeoui_001-2',\n",
       " 'Ahmed_barkeoui_001-3',\n",
       " 'Ahmed_barkeoui_001-4',\n",
       " 'Ahmed_barkeoui_001-5',\n",
       " 'Ahmed_barkeoui_001-6',\n",
       " 'Ahmed_barkeoui_001-7',\n",
       " 'Ahmed_barkeoui_001-8',\n",
       " 'Ahmed_barkeoui_001-9',\n",
       " 'Ahmed_barkeoui_002-0',\n",
       " 'Ahmed_barkeoui_002-1',\n",
       " 'Ahmed_barkeoui_002-2',\n",
       " 'Ahmed_barkeoui_002-3',\n",
       " 'Ahmed_barkeoui_002-4',\n",
       " 'Ahmed_barkeoui_002-5',\n",
       " 'Ahmed_barkeoui_002-6',\n",
       " 'Ahmed_barkeoui_002-7',\n",
       " 'Ahmed_barkeoui_002-8',\n",
       " 'Ahmed_barkeoui_002-9',\n",
       " 'Ahmed_barkeoui_003-0',\n",
       " 'Ahmed_barkeoui_003-1',\n",
       " 'Ahmed_barkeoui_003-2',\n",
       " 'Ahmed_barkeoui_003-3',\n",
       " 'Ahmed_barkeoui_003-4',\n",
       " 'Ahmed_barkeoui_003-5',\n",
       " 'Ahmed_barkeoui_003-6',\n",
       " 'Ahmed_barkeoui_003-7',\n",
       " 'Ahmed_barkeoui_003-8',\n",
       " 'Ahmed_barkeoui_003-9',\n",
       " 'Ahmed_barkeoui_004-0',\n",
       " 'Ahmed_barkeoui_004-1',\n",
       " 'Ahmed_barkeoui_004-2',\n",
       " 'Ahmed_barkeoui_004-3',\n",
       " 'Ahmed_barkeoui_004-4',\n",
       " 'Ahmed_barkeoui_004-5',\n",
       " 'Ahmed_barkeoui_004-6',\n",
       " 'Ahmed_barkeoui_004-7',\n",
       " 'Ahmed_barkeoui_004-8',\n",
       " 'Ahmed_barkeoui_004-9',\n",
       " 'Cristiano_ronaldo_001-0',\n",
       " 'Cristiano_ronaldo_001-1',\n",
       " 'Cristiano_ronaldo_001-2',\n",
       " 'Cristiano_ronaldo_001-3',\n",
       " 'Cristiano_ronaldo_001-4',\n",
       " 'Cristiano_ronaldo_001-5',\n",
       " 'Cristiano_ronaldo_001-6',\n",
       " 'Cristiano_ronaldo_001-7',\n",
       " 'Cristiano_ronaldo_001-8',\n",
       " 'Cristiano_ronaldo_001-9',\n",
       " 'Cristiano_ronaldo_002-0',\n",
       " 'Cristiano_ronaldo_002-1',\n",
       " 'Cristiano_ronaldo_002-2',\n",
       " 'Cristiano_ronaldo_002-3',\n",
       " 'Cristiano_ronaldo_002-4',\n",
       " 'Cristiano_ronaldo_002-5',\n",
       " 'Cristiano_ronaldo_002-6',\n",
       " 'Cristiano_ronaldo_002-7',\n",
       " 'Cristiano_ronaldo_002-8',\n",
       " 'Cristiano_ronaldo_002-9',\n",
       " 'Cristiano_ronaldo_003-0',\n",
       " 'Cristiano_ronaldo_003-1',\n",
       " 'Cristiano_ronaldo_003-2',\n",
       " 'Cristiano_ronaldo_003-3',\n",
       " 'Cristiano_ronaldo_003-4',\n",
       " 'Cristiano_ronaldo_003-5',\n",
       " 'Cristiano_ronaldo_003-6',\n",
       " 'Cristiano_ronaldo_003-7',\n",
       " 'Cristiano_ronaldo_003-8',\n",
       " 'Cristiano_ronaldo_003-9',\n",
       " 'Cristiano_ronaldo_004-0',\n",
       " 'Cristiano_ronaldo_004-1',\n",
       " 'Cristiano_ronaldo_004-2',\n",
       " 'Cristiano_ronaldo_004-3',\n",
       " 'Cristiano_ronaldo_004-4',\n",
       " 'Cristiano_ronaldo_004-5',\n",
       " 'Cristiano_ronaldo_004-6',\n",
       " 'Cristiano_ronaldo_004-7',\n",
       " 'Cristiano_ronaldo_004-8',\n",
       " 'Cristiano_ronaldo_004-9',\n",
       " 'Eya_gargah_001-0',\n",
       " 'Eya_gargah_001-1',\n",
       " 'Eya_gargah_001-2',\n",
       " 'Eya_gargah_001-3',\n",
       " 'Eya_gargah_001-4',\n",
       " 'Eya_gargah_001-5',\n",
       " 'Eya_gargah_001-6',\n",
       " 'Eya_gargah_001-7',\n",
       " 'Eya_gargah_001-8',\n",
       " 'Eya_gargah_001-9',\n",
       " 'Oussayma_khedher_001-0',\n",
       " 'Oussayma_khedher_001-1',\n",
       " 'Oussayma_khedher_001-2',\n",
       " 'Oussayma_khedher_001-3',\n",
       " 'Oussayma_khedher_001-4',\n",
       " 'Oussayma_khedher_001-5',\n",
       " 'Oussayma_khedher_001-6',\n",
       " 'Oussayma_khedher_001-7',\n",
       " 'Oussayma_khedher_001-8',\n",
       " 'Oussayma_khedher_001-9',\n",
       " 'Oussayma_khedher_002-0',\n",
       " 'Oussayma_khedher_002-1',\n",
       " 'Oussayma_khedher_002-2',\n",
       " 'Oussayma_khedher_002-3',\n",
       " 'Oussayma_khedher_002-4',\n",
       " 'Oussayma_khedher_002-5',\n",
       " 'Oussayma_khedher_002-6',\n",
       " 'Oussayma_khedher_002-7',\n",
       " 'Oussayma_khedher_002-8',\n",
       " 'Oussayma_khedher_002-9',\n",
       " 'Oussayma_khedher_003-0',\n",
       " 'Oussayma_khedher_003-1',\n",
       " 'Oussayma_khedher_003-2',\n",
       " 'Oussayma_khedher_003-3',\n",
       " 'Oussayma_khedher_003-4',\n",
       " 'Oussayma_khedher_003-5',\n",
       " 'Oussayma_khedher_003-6',\n",
       " 'Oussayma_khedher_003-7',\n",
       " 'Oussayma_khedher_003-8',\n",
       " 'Oussayma_khedher_003-9',\n",
       " 'Sadok_laouissi_001-0',\n",
       " 'Sadok_laouissi_001-1',\n",
       " 'Sadok_laouissi_001-2',\n",
       " 'Sadok_laouissi_001-3',\n",
       " 'Sadok_laouissi_001-4',\n",
       " 'Sadok_laouissi_001-5',\n",
       " 'Sadok_laouissi_001-6',\n",
       " 'Sadok_laouissi_001-7',\n",
       " 'Sadok_laouissi_001-8',\n",
       " 'Sadok_laouissi_001-9',\n",
       " 'Sadok_laouissi_002-0',\n",
       " 'Sadok_laouissi_002-1',\n",
       " 'Sadok_laouissi_002-2',\n",
       " 'Sadok_laouissi_002-3',\n",
       " 'Sadok_laouissi_002-4',\n",
       " 'Sadok_laouissi_002-5',\n",
       " 'Sadok_laouissi_002-6',\n",
       " 'Sadok_laouissi_002-7',\n",
       " 'Sadok_laouissi_002-8',\n",
       " 'Sadok_laouissi_002-9']"
      ]
     },
     "execution_count": 1,
     "metadata": {},
     "output_type": "execute_result"
    }
   ],
   "source": [
    "import numpy as np\n",
    "Data =  np.load('../Libraries/Django.npy', allow_pickle= True ).item()\n",
    "list(Data.keys())"
   ]
  },
  {
   "cell_type": "code",
   "execution_count": null,
   "id": "0e8ce16a-c8bb-463d-96dc-a62645f332a3",
   "metadata": {
    "tags": []
   },
   "outputs": [],
   "source": [
    "Data['Ahmed_barkeoui_001-0']"
   ]
  },
  {
   "cell_type": "code",
   "execution_count": null,
   "id": "1afa6ff0-e85d-40e0-a51a-374797011ed6",
   "metadata": {},
   "outputs": [],
   "source": [
    "test = {}\n",
    "test[\"Ahmed_barkeoui_001-0\"] = Data['Ahmed_barkeoui_001-0']\n",
    "test[\"Ahmed_barkeoui_001-1\"] = Data['Ahmed_barkeoui_001-1']\n",
    "np.save(\"../Libraries/test.npy\", test)"
   ]
  },
  {
   "cell_type": "code",
   "execution_count": null,
   "id": "bf9244cf-801c-4d17-a535-cb06aa277ba0",
   "metadata": {},
   "outputs": [],
   "source": []
  },
  {
   "cell_type": "code",
   "execution_count": null,
   "id": "c5977034-5422-435c-a4b6-0f7bea233c12",
   "metadata": {},
   "outputs": [],
   "source": [
    "import cv2\n",
    "\n",
    "start_time_ms = 1000\n",
    "stop_time_ms = 2000\n",
    "vidcap = cv2.VideoCapture('C://Users//Oussayma Khedher//Real_time_facial_recognition_system//files//tt.mp4')\n",
    "\n",
    "vidcap.set(cv2.CAP_PROP_POS_MSEC,start_time_ms)\n",
    "while vidcap.get(cv2.CAP_PROP_POS_MSEC) <= stop_time_ms:\n",
    "    success, image = vidcap.read()\n",
    "    gray = cv2.cvtColor(image, cv2.COLOR_BGR2RGB)\n",
    "    fig = plt.figure()\n",
    "    plt.imshow(gray)"
   ]
  },
  {
   "cell_type": "code",
   "execution_count": null,
   "id": "1d8d1d1f-d15e-4b16-9b09-2af171d9398d",
   "metadata": {},
   "outputs": [],
   "source": []
  },
  {
   "cell_type": "code",
   "execution_count": 7,
   "id": "61746cb4-5bdb-4384-a12b-2bcfb0c8f707",
   "metadata": {
    "tags": []
   },
   "outputs": [
    {
     "data": {
      "text/plain": [
       "['Achref_saad_001-0',\n",
       " 'Achref_saad_001-1',\n",
       " 'Achref_saad_001-2',\n",
       " 'Achref_saad_001-3',\n",
       " 'Achref_saad_002-0',\n",
       " 'Achref_saad_002-1',\n",
       " 'Achref_saad_002-2',\n",
       " 'Achref_saad_002-3',\n",
       " 'Achref_saad_003-0',\n",
       " 'Achref_saad_003-1',\n",
       " 'Achref_saad_003-2',\n",
       " 'Achref_saad_003-3',\n",
       " 'Ahmed_barkeoui_001-0',\n",
       " 'Ahmed_barkeoui_001-1',\n",
       " 'Ahmed_barkeoui_001-2',\n",
       " 'Ahmed_barkeoui_001-3',\n",
       " 'Ahmed_barkeoui_002-0',\n",
       " 'Ahmed_barkeoui_002-1',\n",
       " 'Ahmed_barkeoui_002-2',\n",
       " 'Ahmed_barkeoui_002-3',\n",
       " 'Ahmed_barkeoui_003-0',\n",
       " 'Ahmed_barkeoui_003-1',\n",
       " 'Ahmed_barkeoui_003-2',\n",
       " 'Ahmed_barkeoui_003-3',\n",
       " 'Ahmed_barkeoui_004-0',\n",
       " 'Ahmed_barkeoui_004-1',\n",
       " 'Ahmed_barkeoui_004-2',\n",
       " 'Ahmed_barkeoui_004-3',\n",
       " 'Cristiano_ronaldo_001-0',\n",
       " 'Cristiano_ronaldo_001-1',\n",
       " 'Cristiano_ronaldo_001-2',\n",
       " 'Cristiano_ronaldo_001-3',\n",
       " 'Cristiano_ronaldo_002-0',\n",
       " 'Cristiano_ronaldo_002-1',\n",
       " 'Cristiano_ronaldo_002-2',\n",
       " 'Cristiano_ronaldo_002-3',\n",
       " 'Cristiano_ronaldo_003-0',\n",
       " 'Cristiano_ronaldo_003-1',\n",
       " 'Cristiano_ronaldo_003-2',\n",
       " 'Cristiano_ronaldo_003-3',\n",
       " 'Eya_gargah_001-0',\n",
       " 'Eya_gargah_001-1',\n",
       " 'Eya_gargah_001-2',\n",
       " 'Eya_gargah_001-3',\n",
       " 'Eya_gargah_002-0',\n",
       " 'Eya_gargah_002-1',\n",
       " 'Eya_gargah_002-2',\n",
       " 'Eya_gargah_002-3',\n",
       " 'Eya_gargah_003-0',\n",
       " 'Eya_gargah_003-1',\n",
       " 'Eya_gargah_003-2',\n",
       " 'Eya_gargah_003-3',\n",
       " 'Eya_gargah_004-0',\n",
       " 'Eya_gargah_004-1',\n",
       " 'Eya_gargah_004-2',\n",
       " 'Eya_gargah_004-3',\n",
       " 'Khaled_jallouli_001-0',\n",
       " 'Khaled_jallouli_001-1',\n",
       " 'Khaled_jallouli_001-2',\n",
       " 'Khaled_jallouli_001-3',\n",
       " 'Khaled_jallouli_002-0',\n",
       " 'Khaled_jallouli_002-1',\n",
       " 'Khaled_jallouli_002-2',\n",
       " 'Khaled_jallouli_002-3',\n",
       " 'Khaled_jallouli_003-0',\n",
       " 'Khaled_jallouli_003-1',\n",
       " 'Khaled_jallouli_003-2',\n",
       " 'Khaled_jallouli_003-3',\n",
       " 'Khaled_jallouli_004-0',\n",
       " 'Khaled_jallouli_004-1',\n",
       " 'Khaled_jallouli_004-2',\n",
       " 'Khaled_jallouli_004-3',\n",
       " 'Oussayma_khedher_001-0',\n",
       " 'Oussayma_khedher_001-1',\n",
       " 'Oussayma_khedher_001-2',\n",
       " 'Oussayma_khedher_001-3',\n",
       " 'Oussayma_khedher_002-0',\n",
       " 'Oussayma_khedher_002-1',\n",
       " 'Oussayma_khedher_002-2',\n",
       " 'Oussayma_khedher_002-3',\n",
       " 'Oussayma_khedher_003-0',\n",
       " 'Oussayma_khedher_003-1',\n",
       " 'Oussayma_khedher_003-2',\n",
       " 'Oussayma_khedher_003-3',\n",
       " 'Oussayma_khedher_004-0',\n",
       " 'Oussayma_khedher_004-1',\n",
       " 'Oussayma_khedher_004-2',\n",
       " 'Oussayma_khedher_004-3',\n",
       " 'Sadok_laouissi_001-0',\n",
       " 'Sadok_laouissi_001-1',\n",
       " 'Sadok_laouissi_001-2',\n",
       " 'Sadok_laouissi_001-3',\n",
       " 'Sadok_laouissi_002-0',\n",
       " 'Sadok_laouissi_002-1',\n",
       " 'Sadok_laouissi_002-2',\n",
       " 'Sadok_laouissi_002-3',\n",
       " 'Sadok_laouissi_003-0',\n",
       " 'Sadok_laouissi_003-1',\n",
       " 'Sadok_laouissi_003-2',\n",
       " 'Sadok_laouissi_003-3',\n",
       " 'Sadok_laouissi_004-0',\n",
       " 'Sadok_laouissi_004-1',\n",
       " 'Sadok_laouissi_004-2',\n",
       " 'Sadok_laouissi_004-3',\n",
       " 'Yassine_ben_hamida_001-0',\n",
       " 'Yassine_ben_hamida_001-1',\n",
       " 'Yassine_ben_hamida_001-2',\n",
       " 'Yassine_ben_hamida_001-3',\n",
       " 'Yassine_ben_hamida_002-0',\n",
       " 'Yassine_ben_hamida_002-1',\n",
       " 'Yassine_ben_hamida_002-2',\n",
       " 'Yassine_ben_hamida_002-3',\n",
       " 'Yassine_ben_hamida_003-0',\n",
       " 'Yassine_ben_hamida_003-1',\n",
       " 'Yassine_ben_hamida_003-2',\n",
       " 'Yassine_ben_hamida_003-3',\n",
       " 'Yassine_ben_hamida_004-0',\n",
       " 'Yassine_ben_hamida_004-1',\n",
       " 'Yassine_ben_hamida_004-2',\n",
       " 'Yassine_ben_hamida_004-3']"
      ]
     },
     "execution_count": 7,
     "metadata": {},
     "output_type": "execute_result"
    }
   ],
   "source": [
    "import numpy as np\n",
    "Data =  np.load('../Libraries/Django.npy', allow_pickle= True ).item()\n",
    "list(Data.keys())"
   ]
  },
  {
   "cell_type": "code",
   "execution_count": null,
   "id": "6bd9ad96-5cc2-4366-8d88-6313c656541b",
   "metadata": {},
   "outputs": [],
   "source": []
  },
  {
   "cell_type": "code",
   "execution_count": null,
   "id": "13c9258c-ecef-4569-ad21-8a3b190585c2",
   "metadata": {},
   "outputs": [],
   "source": []
  }
 ],
 "metadata": {
  "kernelspec": {
   "display_name": "Python 3",
   "language": "python",
   "name": "python3"
  },
  "language_info": {
   "codemirror_mode": {
    "name": "ipython",
    "version": 3
   },
   "file_extension": ".py",
   "mimetype": "text/x-python",
   "name": "python",
   "nbconvert_exporter": "python",
   "pygments_lexer": "ipython3",
   "version": "3.9.5"
  }
 },
 "nbformat": 4,
 "nbformat_minor": 5
}
