{
 "cells": [
  {
   "cell_type": "code",
   "execution_count": 1,
   "id": "e5c1cb1c-a7ac-4d13-a9fd-ee0466fd6a74",
   "metadata": {},
   "outputs": [
    {
     "data": {
      "text/plain": [
       "'video'"
      ]
     },
     "execution_count": 1,
     "metadata": {},
     "output_type": "execute_result"
    }
   ],
   "source": [
    "extension=\"image\" if \"mp4\" in [\"jpeg\",\"jpg\",\"png\",\"gif\",\"tif\",\"psd\",\"pdf\",\"eps\",\"ai\",\"indd\",\"svg\"] else \"video\"\n",
    "extension"
   ]
  },
  {
   "cell_type": "code",
   "execution_count": 4,
   "id": "2c4ad65b-9ef2-47cb-b1d0-53fea83a31bd",
   "metadata": {},
   "outputs": [
    {
     "ename": "ImportError",
     "evalue": "cannot import name 'FusionCharts' from 'fusionexport' (C:\\Users\\BARKEOUI AHMED\\Anaconda3\\envs\\tensorflow-gpu\\lib\\site-packages\\fusionexport\\__init__.py)",
     "output_type": "error",
     "traceback": [
      "\u001b[1;31m---------------------------------------------------------------------------\u001b[0m",
      "\u001b[1;31mImportError\u001b[0m                               Traceback (most recent call last)",
      "\u001b[1;32m<ipython-input-4-4a8d84f82736>\u001b[0m in \u001b[0;36m<module>\u001b[1;34m\u001b[0m\n\u001b[0;32m      1\u001b[0m \u001b[1;32mfrom\u001b[0m \u001b[0mcollections\u001b[0m \u001b[1;32mimport\u001b[0m \u001b[0mOrderedDict\u001b[0m\u001b[1;33m\u001b[0m\u001b[1;33m\u001b[0m\u001b[0m\n\u001b[1;32m----> 2\u001b[1;33m \u001b[1;32mfrom\u001b[0m \u001b[0mfusionexport\u001b[0m \u001b[1;32mimport\u001b[0m \u001b[0mFusionCharts\u001b[0m\u001b[1;33m\u001b[0m\u001b[1;33m\u001b[0m\u001b[0m\n\u001b[0m",
      "\u001b[1;31mImportError\u001b[0m: cannot import name 'FusionCharts' from 'fusionexport' (C:\\Users\\BARKEOUI AHMED\\Anaconda3\\envs\\tensorflow-gpu\\lib\\site-packages\\fusionexport\\__init__.py)"
     ]
    }
   ],
   "source": [
    "from collections import OrderedDict\n",
    "from fusioncharts import FusionCharts"
   ]
  },
  {
   "cell_type": "code",
   "execution_count": 9,
   "id": "5c696b81-b069-4f0c-93c7-0b0dcd23f13d",
   "metadata": {},
   "outputs": [
    {
     "data": {
      "text/plain": [
       "{'Oussayma khedher ': '30/08/2021 21:29:51',\n",
       " 'Hamza lahmer ': '06/09/2021 10:12:43',\n",
       " 'Yassine ben hmida ': '06/09/2021 10:15:19',\n",
       " 'Achraf saad ': '06/09/2021 10:17:39',\n",
       " 'Ross geller ': '06/09/2021 12:02:32',\n",
       " 'Ahmed barkeoui ': '06/09/2021 15:30:50',\n",
       " 'Montassar bouagina ': '06/09/2021 16:01:32',\n",
       " 'Bilel djobbi ': '06/09/2021 16:04:54',\n",
       " 'Amine azzouz ': '06/09/2021 16:06:38',\n",
       " 'Fakhri badreddine ': '06/09/2021 17:54:17',\n",
       " 'Houssem guenfali ': '06/09/2021 17:57:29',\n",
       " 'Youssef khedher ': '06/09/2021 18:03:14',\n",
       " 'Jihed zammouri ': '06/09/2021 18:18:18',\n",
       " 'Imen touati ': '06/09/2021 18:22:28',\n",
       " 'Mehe taallah ': '06/09/2021 18:30:54'}"
      ]
     },
     "execution_count": 9,
     "metadata": {},
     "output_type": "execute_result"
    }
   ],
   "source": [
    "import numpy as np\n",
    "Data_Added =  np.load('../Libraries/Date_Added.npy', allow_pickle= True ).item()\n",
    "Data_Added "
   ]
  },
  {
   "cell_type": "code",
   "execution_count": 9,
   "id": "9376f061-07b8-4627-9437-76a5fc582619",
   "metadata": {},
   "outputs": [],
   "source": [
    "Data_Added  = {}"
   ]
  },
  {
   "cell_type": "code",
   "execution_count": 10,
   "id": "95cf0f26-5840-4065-ad60-d3350b780a24",
   "metadata": {},
   "outputs": [
    {
     "data": {
      "text/plain": [
       "{'Cristiano ronaldo ': '28/06/2021 16:01:17',\n",
       " 'Eya gargah ': '27/07/2021 03:54:07',\n",
       " 'Oussayma khedher ': '16/05/2021 18:14:13',\n",
       " 'Sadok laouissi ': '14/05/2021 20:15:07',\n",
       " 'Yassine ben hamida ': '24/07/2021 23:00:27',\n",
       " 'Achref saad ': '25/07/2021 00:43:20',\n",
       " 'Ahmed barkeoui ': '26/07/2021 16:41:33',\n",
       " 'Khaled jallouli ': '26/07/2021 16:41:33'}"
      ]
     },
     "execution_count": 10,
     "metadata": {},
     "output_type": "execute_result"
    }
   ],
   "source": [
    "Data_Added[\"Cristiano ronaldo \"]= '28/06/2021 16:01:17'\n",
    "Data_Added[\"Eya gargah \"]= '27/07/2021 03:54:07'\n",
    "Data_Added[\"Oussayma khedher \"]= '16/05/2021 18:14:13'\n",
    "Data_Added[\"Sadok laouissi \"]= '14/05/2021 20:15:07'\n",
    "Data_Added[\"Yassine ben hamida \"]= '24/07/2021 23:00:27'\n",
    "Data_Added[\"Achref saad \"]= '25/07/2021 00:43:20'\n",
    "Data_Added[\"Ahmed barkeoui \"]= '26/07/2021 16:41:33'\n",
    "Data_Added[\"Khaled jallouli \"]= '26/07/2021 16:41:33'\n",
    "\n",
    "Data_Added"
   ]
  },
  {
   "cell_type": "code",
   "execution_count": 12,
   "id": "992dd0dc-dc8a-4dc4-b883-5325db0b6271",
   "metadata": {},
   "outputs": [],
   "source": [
    "data = \"01:34:04\""
   ]
  },
  {
   "cell_type": "code",
   "execution_count": 14,
   "id": "c2f95705-40e9-4772-8c6f-416e0e9e46fe",
   "metadata": {},
   "outputs": [
    {
     "data": {
      "text/plain": [
       "'01:34:03'"
      ]
     },
     "execution_count": 14,
     "metadata": {},
     "output_type": "execute_result"
    }
   ],
   "source": [
    "start_max = data.split(':')[0]+\":\"+data.split(':')[1]+\":\"+str(int(data.split(':')[2])-1).zfill(2)\n",
    "start_max"
   ]
  },
  {
   "cell_type": "code",
   "execution_count": 5,
   "id": "65792db4-2067-4092-9abc-50a075820ac5",
   "metadata": {},
   "outputs": [
    {
     "data": {
      "text/plain": [
       "'01'"
      ]
     },
     "execution_count": 5,
     "metadata": {},
     "output_type": "execute_result"
    }
   ],
   "source": [
    "str(1).zfill(2)"
   ]
  },
  {
   "cell_type": "code",
   "execution_count": 7,
   "id": "67879674-af92-4ce1-9ce9-f7b1394d6e09",
   "metadata": {},
   "outputs": [
    {
     "name": "stdout",
     "output_type": "stream",
     "text": [
      "56\n"
     ]
    }
   ],
   "source": [
    "print(str(56).zfill(2))"
   ]
  },
  {
   "cell_type": "code",
   "execution_count": 2,
   "id": "c91e8b5b-1863-443a-a0fe-ed40c623a156",
   "metadata": {},
   "outputs": [
    {
     "data": {
      "text/plain": [
       "{'Oussayma khedher ': '30/08/2021 21:29:51',\n",
       " 'Ahmed barkeoui ': '04/09/2021 13:35:53',\n",
       " 'Hamza lahmer ': '06/09/2021 10:12:43',\n",
       " 'Yassine ben hmida ': '06/09/2021 10:15:19',\n",
       " 'Eya gargeh ': '06/09/2021 10:16:14',\n",
       " 'Achraf saad ': '06/09/2021 10:17:39',\n",
       " 'Montassar bouagina ': '06/09/2021 10:18:18',\n",
       " 'Ross geller ': '06/09/2021 10:19:53',\n",
       " 'Lionel messi ': '06/09/2021 10:34:26'}"
      ]
     },
     "execution_count": 2,
     "metadata": {},
     "output_type": "execute_result"
    }
   ],
   "source": [
    "del Data_Added['WAEL123 KFOURI6574 ']\n",
    "Data_Added"
   ]
  },
  {
   "cell_type": "code",
   "execution_count": 7,
   "id": "a5c83fce-4b65-4cb5-942c-b5d20bec6e5d",
   "metadata": {},
   "outputs": [],
   "source": [
    "del Data['WAEL123_KFOURI6574_001-3']"
   ]
  },
  {
   "cell_type": "code",
   "execution_count": 9,
   "id": "e11b6e7d-9574-4633-8440-b73a82d00d9e",
   "metadata": {
    "collapsed": true,
    "jupyter": {
     "outputs_hidden": true
    },
    "tags": []
   },
   "outputs": [
    {
     "data": {
      "text/plain": [
       "['Achref_saad_001-0',\n",
       " 'Achref_saad_001-1',\n",
       " 'Achref_saad_001-2',\n",
       " 'Achref_saad_001-3',\n",
       " 'Achref_saad_002-0',\n",
       " 'Achref_saad_002-1',\n",
       " 'Achref_saad_002-2',\n",
       " 'Achref_saad_002-3',\n",
       " 'Achref_saad_003-0',\n",
       " 'Achref_saad_003-1',\n",
       " 'Achref_saad_003-2',\n",
       " 'Achref_saad_003-3',\n",
       " 'Ahmed_barkeoui_001-0',\n",
       " 'Ahmed_barkeoui_001-1',\n",
       " 'Ahmed_barkeoui_001-2',\n",
       " 'Ahmed_barkeoui_001-3',\n",
       " 'Ahmed_barkeoui_002-0',\n",
       " 'Ahmed_barkeoui_002-1',\n",
       " 'Ahmed_barkeoui_002-2',\n",
       " 'Ahmed_barkeoui_002-3',\n",
       " 'Chandler_bing_001-0',\n",
       " 'Chandler_bing_001-1',\n",
       " 'Chandler_bing_001-2',\n",
       " 'Chandler_bing_001-3',\n",
       " 'Chandler_bing_002-0',\n",
       " 'Chandler_bing_002-1',\n",
       " 'Chandler_bing_002-2',\n",
       " 'Chandler_bing_002-3',\n",
       " 'Chandler_bing_003-0',\n",
       " 'Chandler_bing_003-1',\n",
       " 'Chandler_bing_003-2',\n",
       " 'Chandler_bing_003-3',\n",
       " 'Chandler_bing_004-0',\n",
       " 'Chandler_bing_004-1',\n",
       " 'Chandler_bing_004-2',\n",
       " 'Chandler_bing_004-3',\n",
       " 'Criss_ronal_001-0',\n",
       " 'Criss_ronal_001-1',\n",
       " 'Criss_ronal_001-2',\n",
       " 'Criss_ronal_001-3',\n",
       " 'Criss_ronal_002-0',\n",
       " 'Criss_ronal_002-1',\n",
       " 'Criss_ronal_002-2',\n",
       " 'Criss_ronal_002-3',\n",
       " 'Criss_ronal_003-0',\n",
       " 'Criss_ronal_003-1',\n",
       " 'Criss_ronal_003-2',\n",
       " 'Criss_ronal_003-3',\n",
       " 'Criss_ronal_004-0',\n",
       " 'Criss_ronal_004-1',\n",
       " 'Criss_ronal_004-2',\n",
       " 'Criss_ronal_004-3',\n",
       " 'Criss_ronal_005-0',\n",
       " 'Criss_ronal_005-1',\n",
       " 'Criss_ronal_005-2',\n",
       " 'Criss_ronal_005-3',\n",
       " 'Dorra_ben_hassen_001-0',\n",
       " 'Dorra_ben_hassen_001-1',\n",
       " 'Dorra_ben_hassen_001-2',\n",
       " 'Dorra_ben_hassen_001-3',\n",
       " 'Dorra_ben_hassen_002-0',\n",
       " 'Dorra_ben_hassen_002-1',\n",
       " 'Dorra_ben_hassen_002-2',\n",
       " 'Dorra_ben_hassen_002-3',\n",
       " 'Dorra_ben_hassen_003-0',\n",
       " 'Dorra_ben_hassen_003-1',\n",
       " 'Dorra_ben_hassen_003-2',\n",
       " 'Dorra_ben_hassen_003-3',\n",
       " 'Eya_gargah_001-0',\n",
       " 'Eya_gargah_001-1',\n",
       " 'Eya_gargah_001-2',\n",
       " 'Eya_gargah_001-3',\n",
       " 'Eya_gargah_002-0',\n",
       " 'Eya_gargah_002-1',\n",
       " 'Eya_gargah_002-2',\n",
       " 'Eya_gargah_002-3',\n",
       " 'Eya_gargah_003-0',\n",
       " 'Eya_gargah_003-1',\n",
       " 'Eya_gargah_003-2',\n",
       " 'Eya_gargah_003-3',\n",
       " 'Eya_gargah_004-0',\n",
       " 'Eya_gargah_004-1',\n",
       " 'Eya_gargah_004-2',\n",
       " 'Eya_gargah_004-3',\n",
       " 'Joey_tribiani_001-0',\n",
       " 'Joey_tribiani_001-1',\n",
       " 'Joey_tribiani_001-2',\n",
       " 'Joey_tribiani_001-3',\n",
       " 'Joey_tribiani_002-0',\n",
       " 'Joey_tribiani_002-1',\n",
       " 'Joey_tribiani_002-2',\n",
       " 'Joey_tribiani_002-3',\n",
       " 'Joey_tribiani_003-0',\n",
       " 'Joey_tribiani_003-1',\n",
       " 'Joey_tribiani_003-2',\n",
       " 'Joey_tribiani_003-3',\n",
       " 'Joey_tribiani_004-0',\n",
       " 'Joey_tribiani_004-1',\n",
       " 'Joey_tribiani_004-2',\n",
       " 'Joey_tribiani_004-3',\n",
       " 'Monica_geller_001-0',\n",
       " 'Monica_geller_001-1',\n",
       " 'Monica_geller_001-2',\n",
       " 'Monica_geller_001-3',\n",
       " 'Monica_geller_002-0',\n",
       " 'Monica_geller_002-1',\n",
       " 'Monica_geller_002-2',\n",
       " 'Monica_geller_002-3',\n",
       " 'Monica_geller_003-0',\n",
       " 'Monica_geller_003-1',\n",
       " 'Monica_geller_003-2',\n",
       " 'Monica_geller_003-3',\n",
       " 'Monica_geller_004-0',\n",
       " 'Monica_geller_004-1',\n",
       " 'Monica_geller_004-2',\n",
       " 'Monica_geller_004-3',\n",
       " 'Oussayma_khedher_001-0',\n",
       " 'Oussayma_khedher_001-1',\n",
       " 'Oussayma_khedher_001-2',\n",
       " 'Oussayma_khedher_001-3',\n",
       " 'Oussayma_khedher_002-0',\n",
       " 'Oussayma_khedher_002-1',\n",
       " 'Oussayma_khedher_002-2',\n",
       " 'Oussayma_khedher_002-3',\n",
       " 'Oussayma_khedher_003-0',\n",
       " 'Oussayma_khedher_003-1',\n",
       " 'Oussayma_khedher_003-2',\n",
       " 'Oussayma_khedher_003-3',\n",
       " 'Oussayma_khedher_004-0',\n",
       " 'Oussayma_khedher_004-1',\n",
       " 'Oussayma_khedher_004-2',\n",
       " 'Oussayma_khedher_004-3',\n",
       " 'Rachel_green_001-0',\n",
       " 'Rachel_green_001-1',\n",
       " 'Rachel_green_001-2',\n",
       " 'Rachel_green_001-3',\n",
       " 'Rachel_green_002-0',\n",
       " 'Rachel_green_002-1',\n",
       " 'Rachel_green_002-2',\n",
       " 'Rachel_green_002-3',\n",
       " 'Rachel_green_003-0',\n",
       " 'Rachel_green_003-1',\n",
       " 'Rachel_green_003-2',\n",
       " 'Rachel_green_003-3',\n",
       " 'Rachel_green_004-0',\n",
       " 'Rachel_green_004-1',\n",
       " 'Rachel_green_004-2',\n",
       " 'Rachel_green_004-3',\n",
       " 'Ross_geller_001-0',\n",
       " 'Ross_geller_001-1',\n",
       " 'Ross_geller_001-2',\n",
       " 'Ross_geller_001-3',\n",
       " 'Ross_geller_002-0',\n",
       " 'Ross_geller_002-1',\n",
       " 'Ross_geller_002-2',\n",
       " 'Ross_geller_002-3',\n",
       " 'Ross_geller_003-0',\n",
       " 'Ross_geller_003-1',\n",
       " 'Ross_geller_003-2',\n",
       " 'Ross_geller_003-3',\n",
       " 'Ross_geller_004-0',\n",
       " 'Ross_geller_004-1',\n",
       " 'Ross_geller_004-2',\n",
       " 'Ross_geller_004-3',\n",
       " 'Sadok_laouissi_001-0',\n",
       " 'Sadok_laouissi_001-1',\n",
       " 'Sadok_laouissi_001-2',\n",
       " 'Sadok_laouissi_001-3',\n",
       " 'Sadok_laouissi_002-0',\n",
       " 'Sadok_laouissi_002-1',\n",
       " 'Sadok_laouissi_002-2',\n",
       " 'Sadok_laouissi_002-3',\n",
       " 'Sadok_laouissi_003-0',\n",
       " 'Sadok_laouissi_003-1',\n",
       " 'Sadok_laouissi_003-2',\n",
       " 'Sadok_laouissi_003-3',\n",
       " 'Sadok_laouissi_004-0',\n",
       " 'Sadok_laouissi_004-1',\n",
       " 'Sadok_laouissi_004-2',\n",
       " 'Sadok_laouissi_004-3',\n",
       " 'Wajdi_boutiti_001-0',\n",
       " 'Wajdi_boutiti_001-1',\n",
       " 'Wajdi_boutiti_001-2',\n",
       " 'Wajdi_boutiti_001-3',\n",
       " 'Wajdi_boutiti_002-0',\n",
       " 'Wajdi_boutiti_002-1',\n",
       " 'Wajdi_boutiti_002-2',\n",
       " 'Wajdi_boutiti_002-3',\n",
       " 'Wajdi_boutiti_003-0',\n",
       " 'Wajdi_boutiti_003-1',\n",
       " 'Wajdi_boutiti_003-2',\n",
       " 'Wajdi_boutiti_003-3',\n",
       " 'Yassine_ben_hamida_001-0',\n",
       " 'Yassine_ben_hamida_001-1',\n",
       " 'Yassine_ben_hamida_001-2',\n",
       " 'Yassine_ben_hamida_001-3',\n",
       " 'Yassine_ben_hamida_002-0',\n",
       " 'Yassine_ben_hamida_002-1',\n",
       " 'Yassine_ben_hamida_002-2',\n",
       " 'Yassine_ben_hamida_002-3',\n",
       " 'Yassine_ben_hamida_003-0',\n",
       " 'Yassine_ben_hamida_003-1',\n",
       " 'Yassine_ben_hamida_003-2',\n",
       " 'Yassine_ben_hamida_003-3',\n",
       " 'Yassine_ben_hamida_004-0',\n",
       " 'Yassine_ben_hamida_004-1',\n",
       " 'Yassine_ben_hamida_004-2',\n",
       " 'Yassine_ben_hamida_004-3']"
      ]
     },
     "execution_count": 9,
     "metadata": {},
     "output_type": "execute_result"
    }
   ],
   "source": [
    "list(Data.keys())"
   ]
  },
  {
   "cell_type": "code",
   "execution_count": 10,
   "id": "6c70d180-be0f-4b07-8af7-73dc002d6ca8",
   "metadata": {},
   "outputs": [],
   "source": [
    "np.save(\"../Libraries/Django.npy\", Data)"
   ]
  },
  {
   "cell_type": "code",
   "execution_count": null,
   "id": "1cfe81b0-a71e-4953-898f-437b7334a862",
   "metadata": {},
   "outputs": [],
   "source": [
    "fullpath = os.path.join(path, filename + '.' + filetype)\n",
    "img.save(\"../Libraries/Django.npy\")"
   ]
  },
  {
   "cell_type": "code",
   "execution_count": 3,
   "id": "7119636e-802c-4a3c-8d9f-9566a2596f1e",
   "metadata": {},
   "outputs": [],
   "source": [
    "np.save(\"../Libraries/Date_Added.npy\", Data_Added)"
   ]
  },
  {
   "cell_type": "code",
   "execution_count": 1,
   "id": "e9695849-faa8-4a80-b491-34a269d9c07c",
   "metadata": {
    "tags": []
   },
   "outputs": [
    {
     "data": {
      "text/plain": [
       "['Achraf_saad_001-0',\n",
       " 'Achraf_saad_001-1',\n",
       " 'Achraf_saad_001-2',\n",
       " 'Achraf_saad_001-3',\n",
       " 'Amine_azzouz_001-0',\n",
       " 'Amine_azzouz_001-1',\n",
       " 'Amine_azzouz_001-2',\n",
       " 'Amine_azzouz_001-3',\n",
       " 'Bilel_djobbi_001-0',\n",
       " 'Bilel_djobbi_001-1',\n",
       " 'Bilel_djobbi_001-2',\n",
       " 'Bilel_djobbi_001-3',\n",
       " 'Bilel_djobbi_002-0',\n",
       " 'Bilel_djobbi_002-1',\n",
       " 'Bilel_djobbi_002-2',\n",
       " 'Bilel_djobbi_002-3',\n",
       " 'Hamza_lahmer_001-0',\n",
       " 'Hamza_lahmer_001-1',\n",
       " 'Hamza_lahmer_001-2',\n",
       " 'Hamza_lahmer_001-3',\n",
       " 'Hamza_lahmer_002-0',\n",
       " 'Hamza_lahmer_002-1',\n",
       " 'Hamza_lahmer_002-2',\n",
       " 'Hamza_lahmer_002-3',\n",
       " 'Imen_touati_001-0',\n",
       " 'Imen_touati_001-1',\n",
       " 'Imen_touati_001-2',\n",
       " 'Imen_touati_001-3',\n",
       " 'Imen_touati_002-0',\n",
       " 'Imen_touati_002-1',\n",
       " 'Imen_touati_002-2',\n",
       " 'Imen_touati_002-3',\n",
       " 'Jihed_zammouri_001-0',\n",
       " 'Jihed_zammouri_001-1',\n",
       " 'Jihed_zammouri_001-2',\n",
       " 'Jihed_zammouri_001-3',\n",
       " 'Jihed_zammouri_002-0',\n",
       " 'Jihed_zammouri_002-1',\n",
       " 'Jihed_zammouri_002-2',\n",
       " 'Jihed_zammouri_002-3',\n",
       " 'Lionel_messi_001-0',\n",
       " 'Lionel_messi_001-1',\n",
       " 'Lionel_messi_001-2',\n",
       " 'Lionel_messi_001-3',\n",
       " 'Lionel_messi_002-0',\n",
       " 'Lionel_messi_002-1',\n",
       " 'Lionel_messi_002-2',\n",
       " 'Lionel_messi_002-3',\n",
       " 'Lionel_messi_003-0',\n",
       " 'Lionel_messi_003-1',\n",
       " 'Lionel_messi_003-2',\n",
       " 'Lionel_messi_003-3',\n",
       " 'Lionel_messi_004-0',\n",
       " 'Lionel_messi_004-1',\n",
       " 'Lionel_messi_004-2',\n",
       " 'Lionel_messi_004-3',\n",
       " 'Montassar_bouagina_001-0',\n",
       " 'Montassar_bouagina_001-1',\n",
       " 'Montassar_bouagina_001-2',\n",
       " 'Montassar_bouagina_001-3',\n",
       " 'Oussayma_khedher_001-0',\n",
       " 'Oussayma_khedher_001-1',\n",
       " 'Oussayma_khedher_001-2',\n",
       " 'Oussayma_khedher_001-3',\n",
       " 'Oussayma_khedher_002-0',\n",
       " 'Oussayma_khedher_002-1',\n",
       " 'Oussayma_khedher_002-2',\n",
       " 'Oussayma_khedher_002-3',\n",
       " 'Ross_geller_001-0',\n",
       " 'Ross_geller_001-1',\n",
       " 'Ross_geller_001-2',\n",
       " 'Ross_geller_001-3',\n",
       " 'Ross_geller_002-0',\n",
       " 'Ross_geller_002-1',\n",
       " 'Ross_geller_002-2',\n",
       " 'Ross_geller_002-3',\n",
       " 'Ross_geller_003-0',\n",
       " 'Ross_geller_003-1',\n",
       " 'Ross_geller_003-2',\n",
       " 'Ross_geller_003-3',\n",
       " 'Ross_geller_004-0',\n",
       " 'Ross_geller_004-1',\n",
       " 'Ross_geller_004-2',\n",
       " 'Ross_geller_004-3',\n",
       " 'Safe_belhaj_001-0',\n",
       " 'Safe_belhaj_001-1',\n",
       " 'Safe_belhaj_001-2',\n",
       " 'Safe_belhaj_001-3',\n",
       " 'Safe_belhaj_002-0',\n",
       " 'Safe_belhaj_002-1',\n",
       " 'Safe_belhaj_002-2',\n",
       " 'Safe_belhaj_002-3',\n",
       " 'Safe_belhaj_003-0',\n",
       " 'Safe_belhaj_003-1',\n",
       " 'Safe_belhaj_003-2',\n",
       " 'Safe_belhaj_003-3',\n",
       " 'Yassine_ben_hmida_001-0',\n",
       " 'Yassine_ben_hmida_001-1',\n",
       " 'Yassine_ben_hmida_001-2',\n",
       " 'Yassine_ben_hmida_001-3',\n",
       " 'Yassine_ben_hmida_002-0',\n",
       " 'Yassine_ben_hmida_002-1',\n",
       " 'Yassine_ben_hmida_002-2',\n",
       " 'Yassine_ben_hmida_002-3',\n",
       " 'Youssef_khedher_001-0',\n",
       " 'Youssef_khedher_001-1',\n",
       " 'Youssef_khedher_001-2',\n",
       " 'Youssef_khedher_001-3',\n",
       " 'Youssef_khedher_002-0',\n",
       " 'Youssef_khedher_002-1',\n",
       " 'Youssef_khedher_002-2',\n",
       " 'Youssef_khedher_002-3']"
      ]
     },
     "execution_count": 1,
     "metadata": {},
     "output_type": "execute_result"
    }
   ],
   "source": [
    "import numpy as np\n",
    "Data =  np.load('../Libraries/Django.npy', allow_pickle= True ).item()\n",
    "list(Data.keys())"
   ]
  },
  {
   "cell_type": "code",
   "execution_count": null,
   "id": "0e8ce16a-c8bb-463d-96dc-a62645f332a3",
   "metadata": {
    "tags": []
   },
   "outputs": [],
   "source": [
    "Data['Ahmed_barkeoui_001-0']"
   ]
  },
  {
   "cell_type": "code",
   "execution_count": null,
   "id": "1afa6ff0-e85d-40e0-a51a-374797011ed6",
   "metadata": {},
   "outputs": [],
   "source": [
    "test = {}\n",
    "test[\"Ahmed_barkeoui_001-0\"] = Data['Ahmed_barkeoui_001-0']\n",
    "test[\"Ahmed_barkeoui_001-1\"] = Data['Ahmed_barkeoui_001-1']\n",
    "np.save(\"../Libraries/test.npy\", test)"
   ]
  },
  {
   "cell_type": "code",
   "execution_count": null,
   "id": "bf9244cf-801c-4d17-a535-cb06aa277ba0",
   "metadata": {},
   "outputs": [],
   "source": []
  },
  {
   "cell_type": "code",
   "execution_count": null,
   "id": "c5977034-5422-435c-a4b6-0f7bea233c12",
   "metadata": {},
   "outputs": [],
   "source": [
    "import cv2\n",
    "\n",
    "start_time_ms = 1000\n",
    "stop_time_ms = 2000\n",
    "vidcap = cv2.VideoCapture('C://Users//Oussayma Khedher//Real_time_facial_recognition_system//files//tt.mp4')\n",
    "\n",
    "vidcap.set(cv2.CAP_PROP_POS_MSEC,start_time_ms)\n",
    "while vidcap.get(cv2.CAP_PROP_POS_MSEC) <= stop_time_ms:\n",
    "    success, image = vidcap.read()\n",
    "    gray = cv2.cvtColor(image, cv2.COLOR_BGR2RGB)\n",
    "    fig = plt.figure()\n",
    "    plt.imshow(gray)"
   ]
  },
  {
   "cell_type": "code",
   "execution_count": null,
   "id": "1d8d1d1f-d15e-4b16-9b09-2af171d9398d",
   "metadata": {},
   "outputs": [],
   "source": []
  },
  {
   "cell_type": "code",
   "execution_count": 7,
   "id": "61746cb4-5bdb-4384-a12b-2bcfb0c8f707",
   "metadata": {
    "collapsed": true,
    "jupyter": {
     "outputs_hidden": true
    },
    "tags": []
   },
   "outputs": [
    {
     "data": {
      "text/plain": [
       "['Achref_saad_001-0',\n",
       " 'Achref_saad_001-1',\n",
       " 'Achref_saad_001-2',\n",
       " 'Achref_saad_001-3',\n",
       " 'Achref_saad_002-0',\n",
       " 'Achref_saad_002-1',\n",
       " 'Achref_saad_002-2',\n",
       " 'Achref_saad_002-3',\n",
       " 'Achref_saad_003-0',\n",
       " 'Achref_saad_003-1',\n",
       " 'Achref_saad_003-2',\n",
       " 'Achref_saad_003-3',\n",
       " 'Ahmed_barkeoui_001-0',\n",
       " 'Ahmed_barkeoui_001-1',\n",
       " 'Ahmed_barkeoui_001-2',\n",
       " 'Ahmed_barkeoui_001-3',\n",
       " 'Ahmed_barkeoui_002-0',\n",
       " 'Ahmed_barkeoui_002-1',\n",
       " 'Ahmed_barkeoui_002-2',\n",
       " 'Ahmed_barkeoui_002-3',\n",
       " 'Ahmed_barkeoui_003-0',\n",
       " 'Ahmed_barkeoui_003-1',\n",
       " 'Ahmed_barkeoui_003-2',\n",
       " 'Ahmed_barkeoui_003-3',\n",
       " 'Ahmed_barkeoui_004-0',\n",
       " 'Ahmed_barkeoui_004-1',\n",
       " 'Ahmed_barkeoui_004-2',\n",
       " 'Ahmed_barkeoui_004-3',\n",
       " 'Cristiano_ronaldo_001-0',\n",
       " 'Cristiano_ronaldo_001-1',\n",
       " 'Cristiano_ronaldo_001-2',\n",
       " 'Cristiano_ronaldo_001-3',\n",
       " 'Cristiano_ronaldo_002-0',\n",
       " 'Cristiano_ronaldo_002-1',\n",
       " 'Cristiano_ronaldo_002-2',\n",
       " 'Cristiano_ronaldo_002-3',\n",
       " 'Cristiano_ronaldo_003-0',\n",
       " 'Cristiano_ronaldo_003-1',\n",
       " 'Cristiano_ronaldo_003-2',\n",
       " 'Cristiano_ronaldo_003-3',\n",
       " 'Eya_gargah_001-0',\n",
       " 'Eya_gargah_001-1',\n",
       " 'Eya_gargah_001-2',\n",
       " 'Eya_gargah_001-3',\n",
       " 'Eya_gargah_002-0',\n",
       " 'Eya_gargah_002-1',\n",
       " 'Eya_gargah_002-2',\n",
       " 'Eya_gargah_002-3',\n",
       " 'Eya_gargah_003-0',\n",
       " 'Eya_gargah_003-1',\n",
       " 'Eya_gargah_003-2',\n",
       " 'Eya_gargah_003-3',\n",
       " 'Eya_gargah_004-0',\n",
       " 'Eya_gargah_004-1',\n",
       " 'Eya_gargah_004-2',\n",
       " 'Eya_gargah_004-3',\n",
       " 'Khaled_jallouli_001-0',\n",
       " 'Khaled_jallouli_001-1',\n",
       " 'Khaled_jallouli_001-2',\n",
       " 'Khaled_jallouli_001-3',\n",
       " 'Khaled_jallouli_002-0',\n",
       " 'Khaled_jallouli_002-1',\n",
       " 'Khaled_jallouli_002-2',\n",
       " 'Khaled_jallouli_002-3',\n",
       " 'Khaled_jallouli_003-0',\n",
       " 'Khaled_jallouli_003-1',\n",
       " 'Khaled_jallouli_003-2',\n",
       " 'Khaled_jallouli_003-3',\n",
       " 'Khaled_jallouli_004-0',\n",
       " 'Khaled_jallouli_004-1',\n",
       " 'Khaled_jallouli_004-2',\n",
       " 'Khaled_jallouli_004-3',\n",
       " 'Oussayma_khedher_001-0',\n",
       " 'Oussayma_khedher_001-1',\n",
       " 'Oussayma_khedher_001-2',\n",
       " 'Oussayma_khedher_001-3',\n",
       " 'Oussayma_khedher_002-0',\n",
       " 'Oussayma_khedher_002-1',\n",
       " 'Oussayma_khedher_002-2',\n",
       " 'Oussayma_khedher_002-3',\n",
       " 'Oussayma_khedher_003-0',\n",
       " 'Oussayma_khedher_003-1',\n",
       " 'Oussayma_khedher_003-2',\n",
       " 'Oussayma_khedher_003-3',\n",
       " 'Oussayma_khedher_004-0',\n",
       " 'Oussayma_khedher_004-1',\n",
       " 'Oussayma_khedher_004-2',\n",
       " 'Oussayma_khedher_004-3',\n",
       " 'Sadok_laouissi_001-0',\n",
       " 'Sadok_laouissi_001-1',\n",
       " 'Sadok_laouissi_001-2',\n",
       " 'Sadok_laouissi_001-3',\n",
       " 'Sadok_laouissi_002-0',\n",
       " 'Sadok_laouissi_002-1',\n",
       " 'Sadok_laouissi_002-2',\n",
       " 'Sadok_laouissi_002-3',\n",
       " 'Sadok_laouissi_003-0',\n",
       " 'Sadok_laouissi_003-1',\n",
       " 'Sadok_laouissi_003-2',\n",
       " 'Sadok_laouissi_003-3',\n",
       " 'Sadok_laouissi_004-0',\n",
       " 'Sadok_laouissi_004-1',\n",
       " 'Sadok_laouissi_004-2',\n",
       " 'Sadok_laouissi_004-3',\n",
       " 'Yassine_ben_hamida_001-0',\n",
       " 'Yassine_ben_hamida_001-1',\n",
       " 'Yassine_ben_hamida_001-2',\n",
       " 'Yassine_ben_hamida_001-3',\n",
       " 'Yassine_ben_hamida_002-0',\n",
       " 'Yassine_ben_hamida_002-1',\n",
       " 'Yassine_ben_hamida_002-2',\n",
       " 'Yassine_ben_hamida_002-3',\n",
       " 'Yassine_ben_hamida_003-0',\n",
       " 'Yassine_ben_hamida_003-1',\n",
       " 'Yassine_ben_hamida_003-2',\n",
       " 'Yassine_ben_hamida_003-3',\n",
       " 'Yassine_ben_hamida_004-0',\n",
       " 'Yassine_ben_hamida_004-1',\n",
       " 'Yassine_ben_hamida_004-2',\n",
       " 'Yassine_ben_hamida_004-3']"
      ]
     },
     "execution_count": 7,
     "metadata": {},
     "output_type": "execute_result"
    }
   ],
   "source": [
    "import numpy as np\n",
    "Data =  np.load('../Libraries/Django.npy', allow_pickle= True ).item()\n",
    "list(Data.keys())"
   ]
  },
  {
   "cell_type": "code",
   "execution_count": 1,
   "id": "6bd9ad96-5cc2-4366-8d88-6313c656541b",
   "metadata": {},
   "outputs": [],
   "source": [
    "dict_ = {'a':30,'a':40}"
   ]
  },
  {
   "cell_type": "code",
   "execution_count": 3,
   "id": "13c9258c-ecef-4569-ad21-8a3b190585c2",
   "metadata": {},
   "outputs": [
    {
     "data": {
      "text/plain": [
       "{'a': 40}"
      ]
     },
     "execution_count": 3,
     "metadata": {},
     "output_type": "execute_result"
    }
   ],
   "source": [
    "dict_"
   ]
  },
  {
   "cell_type": "code",
   "execution_count": 10,
   "id": "bf4e28ab-6c98-49ed-9e62-09022679cb89",
   "metadata": {},
   "outputs": [],
   "source": [
    "import pandas as pd"
   ]
  },
  {
   "cell_type": "code",
   "execution_count": 12,
   "id": "f3b78403-0828-47f7-b7f5-f9b7164f2848",
   "metadata": {},
   "outputs": [],
   "source": [
    "History = pd.DataFrame()"
   ]
  },
  {
   "cell_type": "code",
   "execution_count": 14,
   "id": "18aea9d0-18a4-4cc6-86e8-0e50a5970547",
   "metadata": {},
   "outputs": [],
   "source": [
    "import datetime\n",
    "import pandas as pd\n",
    "import numpy as np\n",
    "\n",
    "todays_date = datetime.datetime.now().date()\n",
    "index = pd.date_range(todays_date-datetime.timedelta(10), periods=10, freq='D')\n",
    "\n",
    "columns = ['A','B', 'C']"
   ]
  },
  {
   "cell_type": "code",
   "execution_count": 15,
   "id": "e61cebb1-3207-448e-ad00-88d4964b2a6c",
   "metadata": {},
   "outputs": [],
   "source": [
    "df_ = pd.DataFrame(index=index, columns=columns)\n",
    "#df_ = df_.fillna(0) # with 0s rather than NaNs"
   ]
  },
  {
   "cell_type": "code",
   "execution_count": 3,
   "id": "fd292468-2f72-49f2-898f-ceb9070fe215",
   "metadata": {},
   "outputs": [],
   "source": []
  },
  {
   "cell_type": "code",
   "execution_count": 79,
   "id": "d4be4b9b-5ad3-424b-88d4-dafdeb7f888e",
   "metadata": {},
   "outputs": [],
   "source": [
    "History = History.append(dict(zip(History.columns,['dorra kh', date_string,time_string])), ignore_index=True)"
   ]
  },
  {
   "cell_type": "code",
   "execution_count": 25,
   "id": "c669d117-2d67-4f05-bffa-ed0fd7dd0e8c",
   "metadata": {},
   "outputs": [
    {
     "data": {
      "text/html": [
       "<div>\n",
       "<style scoped>\n",
       "    .dataframe tbody tr th:only-of-type {\n",
       "        vertical-align: middle;\n",
       "    }\n",
       "\n",
       "    .dataframe tbody tr th {\n",
       "        vertical-align: top;\n",
       "    }\n",
       "\n",
       "    .dataframe thead th {\n",
       "        text-align: right;\n",
       "    }\n",
       "</style>\n",
       "<table border=\"1\" class=\"dataframe\">\n",
       "  <thead>\n",
       "    <tr style=\"text-align: right;\">\n",
       "      <th></th>\n",
       "      <th>Person</th>\n",
       "      <th>Date</th>\n",
       "      <th>Time</th>\n",
       "    </tr>\n",
       "  </thead>\n",
       "  <tbody>\n",
       "  </tbody>\n",
       "</table>\n",
       "</div>"
      ],
      "text/plain": [
       "Empty DataFrame\n",
       "Columns: [Person, Date, Time]\n",
       "Index: []"
      ]
     },
     "execution_count": 25,
     "metadata": {},
     "output_type": "execute_result"
    }
   ],
   "source": [
    "History"
   ]
  },
  {
   "cell_type": "code",
   "execution_count": 9,
   "id": "d85990c0-2b97-4904-8d99-4763012d0e5c",
   "metadata": {},
   "outputs": [],
   "source": [
    "mylist=[\"Unkown\",\"Ahmed barkeoui\"]\n",
    "for i in mylist:\n",
    "    date_string = str(datetime.now().strftime(\"%d/%m/%Y\"))\n",
    "    time_string = str(datetime.now().strftime(\"%H:%M:%S\"))\n",
    "    History = History.append(dict(zip(History.columns,[i, date_string,time_string])), ignore_index=True)"
   ]
  },
  {
   "cell_type": "code",
   "execution_count": 10,
   "id": "6a7dd745-87a9-44df-81f8-5a6a548e8278",
   "metadata": {},
   "outputs": [
    {
     "data": {
      "text/html": [
       "<div>\n",
       "<style scoped>\n",
       "    .dataframe tbody tr th:only-of-type {\n",
       "        vertical-align: middle;\n",
       "    }\n",
       "\n",
       "    .dataframe tbody tr th {\n",
       "        vertical-align: top;\n",
       "    }\n",
       "\n",
       "    .dataframe thead th {\n",
       "        text-align: right;\n",
       "    }\n",
       "</style>\n",
       "<table border=\"1\" class=\"dataframe\">\n",
       "  <thead>\n",
       "    <tr style=\"text-align: right;\">\n",
       "      <th></th>\n",
       "      <th>Person</th>\n",
       "      <th>Date</th>\n",
       "      <th>Time</th>\n",
       "    </tr>\n",
       "  </thead>\n",
       "  <tbody>\n",
       "    <tr>\n",
       "      <th>0</th>\n",
       "      <td>Unkown</td>\n",
       "      <td>30/08/2021</td>\n",
       "      <td>16:09:12</td>\n",
       "    </tr>\n",
       "    <tr>\n",
       "      <th>1</th>\n",
       "      <td>Ahmed barkeoui</td>\n",
       "      <td>30/08/2021</td>\n",
       "      <td>16:09:12</td>\n",
       "    </tr>\n",
       "  </tbody>\n",
       "</table>\n",
       "</div>"
      ],
      "text/plain": [
       "           Person        Date      Time\n",
       "0          Unkown  30/08/2021  16:09:12\n",
       "1  Ahmed barkeoui  30/08/2021  16:09:12"
      ]
     },
     "execution_count": 10,
     "metadata": {},
     "output_type": "execute_result"
    }
   ],
   "source": [
    "History"
   ]
  },
  {
   "cell_type": "code",
   "execution_count": 1,
   "id": "5544eb18-ff4d-4135-947b-259698c95a1b",
   "metadata": {},
   "outputs": [],
   "source": [
    "from datetime import datetime\n",
    "import pandas as pd\n",
    "History = pd.DataFrame(columns=['Person','Date','Time'])\n",
    "date_string = str(datetime.now().strftime(\"%d/%m/%Y\"))\n",
    "time_string = str(datetime.now().strftime(\"%H:%M:%S\"))\n",
    "\n",
    "History = History.append(dict(zip(History.columns,['Ahmed barkeoui ', '06/09/2021','16:14:55'])), ignore_index=True)\n",
    "History = History.append(dict(zip(History.columns,['Oussayma khedher ', '06/09/2021','15:33:42'])), ignore_index=True)\n",
    "History = History.append(dict(zip(History.columns,['Unknown', '06/09/2021','15:12:32'])), ignore_index=True)\n",
    "History = History.append(dict(zip(History.columns,['Achraf saad ', '06/09/2021','15:00:05'])), ignore_index=True)\n",
    "History = History.append(dict(zip(History.columns,['Yassine ben hamida ', '06/09/2021','14:54:55'])), ignore_index=True)\n",
    "History = History.append(dict(zip(History.columns,['Achraf saad ', '05/09/2021','12:54:25'])), ignore_index=True)\n",
    "History = History.append(dict(zip(History.columns,['Imen touati ', '05/09/2021','10:34:05'])), ignore_index=True)\n",
    "History = History.append(dict(zip(History.columns,['Hamza lahmer ', '05/09/2021','09:34:05'])), ignore_index=True)\n",
    "History = History.append(dict(zip(History.columns,['Unknown', '05/09/2021','09:30:00'])), ignore_index=True)\n",
    "History = History.append(dict(zip(History.columns,['Fakhri badreddine ', '05/09/2021','09:11:05'])), ignore_index=True)\n",
    "History = History.append(dict(zip(History.columns,['Amine azzouz ', '04/09/2021','18:34:05'])), ignore_index=True)\n",
    "History = History.append(dict(zip(History.columns,['Houssem guenfali ', '04/09/2021','17:34:05'])), ignore_index=True)\n",
    "History = History.append(dict(zip(History.columns,['Youssef khedher ', '04/09/2021','17:00:05'])), ignore_index=True)\n",
    "History = History.append(dict(zip(History.columns,['Jihed zammouri ', '04/09/2021','16:18:05'])), ignore_index=True)\n",
    "History = History.append(dict(zip(History.columns,['Imen touati ', '04/09/2021','16:17:05'])), ignore_index=True)\n",
    "History = History.append(dict(zip(History.columns,['Bilel djobbi ', '04/09/2021','16:16:16'])), ignore_index=True)\n",
    "History = History.append(dict(zip(History.columns,['Montassar bouagina ', '04/09/2021','16:02:05'])), ignore_index=True)\n",
    "History = History.append(dict(zip(History.columns,['Unknown', '04/09/2021','15:36:00'])), ignore_index=True)\n",
    "History = History.append(dict(zip(History.columns,['Ahmed barkeoui ', '04/09/2021','15:34:05'])), ignore_index=True)\n",
    "History = History.append(dict(zip(History.columns,['Wajdi boutiti ', '04/09/2021','15:15:05'])), ignore_index=True)\n",
    "History = History.append(dict(zip(History.columns,['Amine azzouz ', '04/09/2021','14:34:05'])), ignore_index=True)\n",
    "History = History.append(dict(zip(History.columns,['Montassar bouagina ', '03/09/2021','13:34:05'])), ignore_index=True)\n",
    "History = History.append(dict(zip(History.columns,['Unknown', '03/09/2021','12:55:32'])), ignore_index=True)\n",
    "History = History.append(dict(zip(History.columns,['Oussayma khedher ', '03/09/2021','12:34:05'])), ignore_index=True)\n",
    "History = History.append(dict(zip(History.columns,['Achraf saad ', '03/09/2021','11:34:05'])), ignore_index=True)\n",
    "History = History.append(dict(zip(History.columns,['Unknown', '02/09/2021','10:50:00'])), ignore_index=True)\n",
    "History = History.append(dict(zip(History.columns,['Imen touati ', '02/09/2021','10:34:05'])), ignore_index=True)\n",
    "History = History.append(dict(zip(History.columns,['Bilel djobbi ', '02/09/2021','09:34:05'])), ignore_index=True)\n",
    "History = History.append(dict(zip(History.columns,['Fakhri badreddine ', '31/08/2021','12:34:05'])), ignore_index=True)\n",
    "History = History.append(dict(zip(History.columns,['Unknown', '31/08/2021','12:30:00'])), ignore_index=True)\n",
    "History = History.append(dict(zip(History.columns,['Unknown', '31/08/2021','11:55:00'])), ignore_index=True)\n",
    "History = History.append(dict(zip(History.columns,['Hamza lahmer ', '31/08/2021','11:34:05'])), ignore_index=True)\n",
    "History = History.append(dict(zip(History.columns,['Jihed zammouri ', '31/08/2021','10:34:05'])), ignore_index=True)\n",
    "History = History.append(dict(zip(History.columns,['Houssem guenfali ', '30/08/2021','13:34:05'])), ignore_index=True)\n",
    "History = History.append(dict(zip(History.columns,['Imen touati ', '30/08/2021','12:34:05'])), ignore_index=True)\n",
    "History = History.append(dict(zip(History.columns,['Ahmed barkeoui ', '30/08/2021','11:34:05'])), ignore_index=True)\n",
    "History = History.append(dict(zip(History.columns,['Oussayma khedher ', '30/08/2021','09:34:05'])), ignore_index=True)\n",
    "History = History.append(dict(zip(History.columns,['Unknown', '29/08/2021','16:30:00'])), ignore_index=True)\n",
    "History = History.append(dict(zip(History.columns,['Achraf saad ', '29/08/2021','15:37:05'])), ignore_index=True)\n",
    "\n",
    "History.to_csv(\"../Libraries/History.csv\")"
   ]
  },
  {
   "cell_type": "code",
   "execution_count": 107,
   "id": "d7fb2a7e-0006-4749-b330-a0375a65e6a1",
   "metadata": {},
   "outputs": [
    {
     "data": {
      "text/plain": [
       "{'Ahmed barkeoui ': ['30/08/2021', '11:34:05'],\n",
       " 'Oussayma khedher ': ['30/08/2021', '09:34:05'],\n",
       " 'Unknown': ['29/08/2021', '16:30:00'],\n",
       " 'Achraf saad ': ['29/08/2021', '15:37:05'],\n",
       " 'Yassine ben hamida ': ['06/09/2021', '14:54:55'],\n",
       " 'Imen touati ': ['30/08/2021', '12:34:05'],\n",
       " 'Hamza lahmer ': ['31/08/2021', '11:34:05'],\n",
       " 'Fakhri badreddine ': ['31/08/2021', '12:34:05'],\n",
       " 'Amine azzouz ': ['04/09/2021', '14:34:05'],\n",
       " 'Houssem guenfali ': ['30/08/2021', '13:34:05'],\n",
       " 'Youssef khedher ': ['04/09/2021', '17:00:05'],\n",
       " 'Jihed zammouri ': ['31/08/2021', '10:34:05'],\n",
       " 'Bilel djobbi ': ['02/09/2021', '09:34:05'],\n",
       " 'Montassar bouagina ': ['03/09/2021', '13:34:05'],\n",
       " 'Wajdi boutiti ': ['04/09/2021', '15:15:05']}"
      ]
     },
     "execution_count": 107,
     "metadata": {},
     "output_type": "execute_result"
    }
   ],
   "source": [
    "{list(History[\"Person\"])[i]: [list(History[\"Date\"])[i],list(History[\"Time\"])[i]] for i in range(len(list(History[\"Person\"])))}"
   ]
  },
  {
   "cell_type": "code",
   "execution_count": 82,
   "id": "f8e3f2b7-cb77-49a8-8d45-559131f09acd",
   "metadata": {},
   "outputs": [
    {
     "name": "stdout",
     "output_type": "stream",
     "text": [
      "Empty DataFrame\n",
      "Columns: [Person, Date, Time]\n",
      "Index: []\n"
     ]
    }
   ],
   "source": [
    "from datetime import datetime\n",
    "History = pd.DataFrame(columns=['Person','Date','Time'])\n",
    "print(History)\n",
    "History.to_csv(\"../Libraries/History.csv\")"
   ]
  },
  {
   "cell_type": "code",
   "execution_count": 7,
   "id": "8533efe3-f3ed-4d32-8244-f18e322b9cc6",
   "metadata": {},
   "outputs": [
    {
     "data": {
      "text/html": [
       "<div>\n",
       "<style scoped>\n",
       "    .dataframe tbody tr th:only-of-type {\n",
       "        vertical-align: middle;\n",
       "    }\n",
       "\n",
       "    .dataframe tbody tr th {\n",
       "        vertical-align: top;\n",
       "    }\n",
       "\n",
       "    .dataframe thead th {\n",
       "        text-align: right;\n",
       "    }\n",
       "</style>\n",
       "<table border=\"1\" class=\"dataframe\">\n",
       "  <thead>\n",
       "    <tr style=\"text-align: right;\">\n",
       "      <th></th>\n",
       "      <th>Person</th>\n",
       "      <th>Date</th>\n",
       "      <th>Time</th>\n",
       "    </tr>\n",
       "  </thead>\n",
       "  <tbody>\n",
       "    <tr>\n",
       "      <th>0</th>\n",
       "      <td>Ahmed barkeoui</td>\n",
       "      <td>06/09/2021</td>\n",
       "      <td>16:14:55</td>\n",
       "    </tr>\n",
       "    <tr>\n",
       "      <th>1</th>\n",
       "      <td>Oussayma khedher</td>\n",
       "      <td>06/09/2021</td>\n",
       "      <td>15:33:42</td>\n",
       "    </tr>\n",
       "    <tr>\n",
       "      <th>2</th>\n",
       "      <td>Unknown</td>\n",
       "      <td>06/09/2021</td>\n",
       "      <td>15:12:32</td>\n",
       "    </tr>\n",
       "    <tr>\n",
       "      <th>3</th>\n",
       "      <td>Achraf saad</td>\n",
       "      <td>06/09/2021</td>\n",
       "      <td>15:00:05</td>\n",
       "    </tr>\n",
       "    <tr>\n",
       "      <th>4</th>\n",
       "      <td>Yassine ben hamida</td>\n",
       "      <td>06/09/2021</td>\n",
       "      <td>14:54:55</td>\n",
       "    </tr>\n",
       "  </tbody>\n",
       "</table>\n",
       "</div>"
      ],
      "text/plain": [
       "                Person        Date      Time\n",
       "0      Ahmed barkeoui   06/09/2021  16:14:55\n",
       "1    Oussayma khedher   06/09/2021  15:33:42\n",
       "2              Unknown  06/09/2021  15:12:32\n",
       "3         Achraf saad   06/09/2021  15:00:05\n",
       "4  Yassine ben hamida   06/09/2021  14:54:55"
      ]
     },
     "execution_count": 7,
     "metadata": {},
     "output_type": "execute_result"
    }
   ],
   "source": [
    "import pandas as pd\n",
    "History = pd.read_csv(\"../Libraries/History.csv\" ,index_col=0)\n",
    "History.head(5)"
   ]
  },
  {
   "cell_type": "code",
   "execution_count": 14,
   "id": "dcc59ee3-224a-4b1d-a2d4-a624d433f79a",
   "metadata": {},
   "outputs": [
    {
     "data": {
      "text/plain": [
       "['Ahmed barkeoui ']"
      ]
     },
     "execution_count": 14,
     "metadata": {},
     "output_type": "execute_result"
    }
   ],
   "source": [
    "list(History[(History[\"Date\"] == datetime.now().strftime(\"%d/%m/%Y\")) & (History[\"Person\"] != \"Unknown\")][\"Person\"])"
   ]
  },
  {
   "cell_type": "code",
   "execution_count": 7,
   "id": "92775df1-bda7-452a-b594-a150926f1bbe",
   "metadata": {},
   "outputs": [
    {
     "data": {
      "text/plain": [
       "'05/09/21'"
      ]
     },
     "execution_count": 7,
     "metadata": {},
     "output_type": "execute_result"
    }
   ],
   "source": [
    "from datetime import date\n",
    "\n",
    "date.today().strftime(\"%d/%m/%y\")"
   ]
  },
  {
   "cell_type": "code",
   "execution_count": 8,
   "id": "d687c374-1016-4501-8cde-717ffad8b87f",
   "metadata": {},
   "outputs": [
    {
     "data": {
      "text/plain": [
       "'05/09/2021'"
      ]
     },
     "execution_count": 8,
     "metadata": {},
     "output_type": "execute_result"
    }
   ],
   "source": [
    "from datetime import datetime\n",
    "datetime.now().strftime(\"%d/%m/%Y\")"
   ]
  },
  {
   "cell_type": "code",
   "execution_count": null,
   "id": "5deec5b3-beaa-4b81-934d-7baf468e77df",
   "metadata": {},
   "outputs": [],
   "source": []
  },
  {
   "cell_type": "code",
   "execution_count": null,
   "id": "c07faef9-e624-45fd-8e9c-776e6fd54458",
   "metadata": {},
   "outputs": [],
   "source": []
  },
  {
   "cell_type": "code",
   "execution_count": 78,
   "id": "40f64507-2891-4d2a-8874-41733899a251",
   "metadata": {},
   "outputs": [
    {
     "data": {
      "text/plain": [
       "{'Unknown': ['30/08/2021', '16:43:05'],\n",
       " 'Cristiano ronaldo ': ['30/08/2021', '16:43:05'],\n",
       " 'Ahmed barkeoui ': ['30/08/2021', '16:43:05']}"
      ]
     },
     "execution_count": 78,
     "metadata": {},
     "output_type": "execute_result"
    }
   ],
   "source": [
    "History.set_index('Person').T.to_dict('list')"
   ]
  },
  {
   "cell_type": "code",
   "execution_count": 54,
   "id": "f3465b8c-b025-4b59-9b6a-d817a830839e",
   "metadata": {},
   "outputs": [
    {
     "data": {
      "text/html": [
       "<div>\n",
       "<style scoped>\n",
       "    .dataframe tbody tr th:only-of-type {\n",
       "        vertical-align: middle;\n",
       "    }\n",
       "\n",
       "    .dataframe tbody tr th {\n",
       "        vertical-align: top;\n",
       "    }\n",
       "\n",
       "    .dataframe thead th {\n",
       "        text-align: right;\n",
       "    }\n",
       "</style>\n",
       "<table border=\"1\" class=\"dataframe\">\n",
       "  <thead>\n",
       "    <tr style=\"text-align: right;\">\n",
       "      <th></th>\n",
       "      <th>Person</th>\n",
       "      <th>Date</th>\n",
       "      <th>Time</th>\n",
       "    </tr>\n",
       "  </thead>\n",
       "  <tbody>\n",
       "    <tr>\n",
       "      <th>0</th>\n",
       "      <td>Unknown</td>\n",
       "      <td>30/08/2021</td>\n",
       "      <td>16:22:05</td>\n",
       "    </tr>\n",
       "    <tr>\n",
       "      <th>1</th>\n",
       "      <td>Ahmed Barkeoui</td>\n",
       "      <td>29/08/2021</td>\n",
       "      <td>13:14:55</td>\n",
       "    </tr>\n",
       "    <tr>\n",
       "      <th>2</th>\n",
       "      <td>Oussayma khedher</td>\n",
       "      <td>30/08/2021</td>\n",
       "      <td>20:33:42</td>\n",
       "    </tr>\n",
       "    <tr>\n",
       "      <th>3</th>\n",
       "      <td>Achraf saad</td>\n",
       "      <td>30/08/2021</td>\n",
       "      <td>10:00:05</td>\n",
       "    </tr>\n",
       "    <tr>\n",
       "      <th>4</th>\n",
       "      <td>Yassine ben hamida</td>\n",
       "      <td>22/08/2021</td>\n",
       "      <td>14:54:55</td>\n",
       "    </tr>\n",
       "    <tr>\n",
       "      <th>5</th>\n",
       "      <td>Achref saad</td>\n",
       "      <td>12/08/2021</td>\n",
       "      <td>15:54:25</td>\n",
       "    </tr>\n",
       "    <tr>\n",
       "      <th>6</th>\n",
       "      <td>Eya gargah</td>\n",
       "      <td>12/08/2021</td>\n",
       "      <td>09:34:05</td>\n",
       "    </tr>\n",
       "    <tr>\n",
       "      <th>7</th>\n",
       "      <td>Efff</td>\n",
       "      <td>12/08/2021</td>\n",
       "      <td>09:34:05</td>\n",
       "    </tr>\n",
       "  </tbody>\n",
       "</table>\n",
       "</div>"
      ],
      "text/plain": [
       "                Person        Date      Time\n",
       "0              Unknown  30/08/2021  16:22:05\n",
       "1       Ahmed Barkeoui  29/08/2021  13:14:55\n",
       "2    Oussayma khedher   30/08/2021  20:33:42\n",
       "3          Achraf saad  30/08/2021  10:00:05\n",
       "4  Yassine ben hamida   22/08/2021  14:54:55\n",
       "5         Achref saad   12/08/2021  15:54:25\n",
       "6          Eya gargah   12/08/2021  09:34:05\n",
       "7                Efff   12/08/2021  09:34:05"
      ]
     },
     "execution_count": 54,
     "metadata": {},
     "output_type": "execute_result"
    }
   ],
   "source": [
    "Historyy = History.append(dict(zip(History.columns,['Efff ', '12/08/2021','09:34:05'])), ignore_index=True)\n",
    "Historyy"
   ]
  },
  {
   "cell_type": "code",
   "execution_count": 50,
   "id": "c90d2fa9-af0a-4b5b-97a1-596841f4e9f6",
   "metadata": {},
   "outputs": [
    {
     "data": {
      "text/html": [
       "<div>\n",
       "<style scoped>\n",
       "    .dataframe tbody tr th:only-of-type {\n",
       "        vertical-align: middle;\n",
       "    }\n",
       "\n",
       "    .dataframe tbody tr th {\n",
       "        vertical-align: top;\n",
       "    }\n",
       "\n",
       "    .dataframe thead th {\n",
       "        text-align: right;\n",
       "    }\n",
       "</style>\n",
       "<table border=\"1\" class=\"dataframe\">\n",
       "  <thead>\n",
       "    <tr style=\"text-align: right;\">\n",
       "      <th></th>\n",
       "      <th>Id</th>\n",
       "      <th>Full_name</th>\n",
       "      <th>Status</th>\n",
       "      <th>E-mail</th>\n",
       "      <th>Gender</th>\n",
       "    </tr>\n",
       "  </thead>\n",
       "  <tbody>\n",
       "    <tr>\n",
       "      <th>0</th>\n",
       "      <td>183JMT3228</td>\n",
       "      <td>Ahmed barkeoui</td>\n",
       "      <td>Professor</td>\n",
       "      <td>ahmed.barkeoui@esprit.tn</td>\n",
       "      <td>Male</td>\n",
       "    </tr>\n",
       "    <tr>\n",
       "      <th>1</th>\n",
       "      <td>159JMT5463</td>\n",
       "      <td>Oussayma khedher</td>\n",
       "      <td>Student</td>\n",
       "      <td>oussayma.khedhe@esprit.tnr</td>\n",
       "      <td>Female</td>\n",
       "    </tr>\n",
       "    <tr>\n",
       "      <th>2</th>\n",
       "      <td>197JMT2345</td>\n",
       "      <td>Yassine ben hmida</td>\n",
       "      <td>Student</td>\n",
       "      <td>yassine.benhmida@esprit.tn</td>\n",
       "      <td>Male</td>\n",
       "    </tr>\n",
       "    <tr>\n",
       "      <th>3</th>\n",
       "      <td>199JMT3425</td>\n",
       "      <td>Achraf saad</td>\n",
       "      <td>Professor</td>\n",
       "      <td>achraf.saad@esprit.tn</td>\n",
       "      <td>Male</td>\n",
       "    </tr>\n",
       "    <tr>\n",
       "      <th>4</th>\n",
       "      <td>150JMT4575</td>\n",
       "      <td>Jihed zammouri</td>\n",
       "      <td>Administrative</td>\n",
       "      <td>jihed.zammouri@esprit.tn</td>\n",
       "      <td>Male</td>\n",
       "    </tr>\n",
       "    <tr>\n",
       "      <th>5</th>\n",
       "      <td>115JMT1244</td>\n",
       "      <td>Wajdi boutiti</td>\n",
       "      <td>Administrative</td>\n",
       "      <td>wajdi.boutiti@esprit.tn</td>\n",
       "      <td>Male</td>\n",
       "    </tr>\n",
       "    <tr>\n",
       "      <th>6</th>\n",
       "      <td>134JMT1244</td>\n",
       "      <td>Amine azzouz</td>\n",
       "      <td>Professor</td>\n",
       "      <td>amine.azzouz@esprit.tn</td>\n",
       "      <td>Male</td>\n",
       "    </tr>\n",
       "    <tr>\n",
       "      <th>7</th>\n",
       "      <td>283JMT0987</td>\n",
       "      <td>Hamza lahmer</td>\n",
       "      <td>Administrative</td>\n",
       "      <td>hamza.lahmer@esprit.tn</td>\n",
       "      <td>Male</td>\n",
       "    </tr>\n",
       "    <tr>\n",
       "      <th>8</th>\n",
       "      <td>155JMT7806</td>\n",
       "      <td>Bilel djobbi</td>\n",
       "      <td>Professor</td>\n",
       "      <td>bilel.djobbi@esprit.tn</td>\n",
       "      <td>Male</td>\n",
       "    </tr>\n",
       "    <tr>\n",
       "      <th>9</th>\n",
       "      <td>185JMT3465</td>\n",
       "      <td>Youssef khedher</td>\n",
       "      <td>Student</td>\n",
       "      <td>youssef.khedher@esprit.tn</td>\n",
       "      <td>Male</td>\n",
       "    </tr>\n",
       "    <tr>\n",
       "      <th>10</th>\n",
       "      <td>153JMT1345</td>\n",
       "      <td>Montassar bouagina</td>\n",
       "      <td>Student</td>\n",
       "      <td>montassar.bouagina@esprit.tn</td>\n",
       "      <td>Male</td>\n",
       "    </tr>\n",
       "  </tbody>\n",
       "</table>\n",
       "</div>"
      ],
      "text/plain": [
       "            Id           Full_name          Status  \\\n",
       "0   183JMT3228      Ahmed barkeoui       Professor   \n",
       "1   159JMT5463    Oussayma khedher         Student   \n",
       "2   197JMT2345   Yassine ben hmida         Student   \n",
       "3   199JMT3425         Achraf saad       Professor   \n",
       "4   150JMT4575      Jihed zammouri  Administrative   \n",
       "5   115JMT1244       Wajdi boutiti  Administrative   \n",
       "6   134JMT1244        Amine azzouz       Professor   \n",
       "7   283JMT0987        Hamza lahmer  Administrative   \n",
       "8   155JMT7806        Bilel djobbi       Professor   \n",
       "9   185JMT3465     Youssef khedher         Student   \n",
       "10  153JMT1345  Montassar bouagina         Student   \n",
       "\n",
       "                          E-mail  Gender  \n",
       "0       ahmed.barkeoui@esprit.tn    Male  \n",
       "1     oussayma.khedhe@esprit.tnr  Female  \n",
       "2     yassine.benhmida@esprit.tn    Male  \n",
       "3          achraf.saad@esprit.tn    Male  \n",
       "4       jihed.zammouri@esprit.tn    Male  \n",
       "5        wajdi.boutiti@esprit.tn    Male  \n",
       "6         amine.azzouz@esprit.tn    Male  \n",
       "7         hamza.lahmer@esprit.tn    Male  \n",
       "8         bilel.djobbi@esprit.tn    Male  \n",
       "9      youssef.khedher@esprit.tn    Male  \n",
       "10  montassar.bouagina@esprit.tn    Male  "
      ]
     },
     "execution_count": 50,
     "metadata": {},
     "output_type": "execute_result"
    }
   ],
   "source": [
    "import pandas as pd\n",
    "\n",
    "data = [{'Id': \"183JMT3228\", 'Full_name': \"Ahmed barkeoui\", 'Status':\"Professor\", 'E-mail': \"ahmed.barkeoui@esprit.tn\", 'Gender': \"Male\"},\n",
    "        {'Id': \"159JMT5463\", 'Full_name': \"Oussayma khedher\", 'Status':\"Student\", 'E-mail': \"oussayma.khedhe@esprit.tnr\", 'Gender': \"Female\"},\n",
    "        {'Id': \"197JMT2345\", 'Full_name': \"Yassine ben hmida\", 'Status':\"Student\", 'E-mail': \"yassine.benhmida@esprit.tn\", 'Gender': \"Male\"},\n",
    "        {'Id': \"199JMT3425\", 'Full_name': \"Achraf saad\", 'Status':\"Professor\", 'E-mail': \"achraf.saad@esprit.tn\", 'Gender': \"Male\"},\n",
    "        {'Id': \"150JMT4575\", 'Full_name': \"Jihed zammouri\", 'Status':\"Administrative\", 'E-mail': \"jihed.zammouri@esprit.tn\", 'Gender': \"Male\"},\n",
    "        {'Id': \"115JMT1244\", 'Full_name': \"Wajdi boutiti\", 'Status':\"Administrative\", 'E-mail': \"wajdi.boutiti@esprit.tn\", 'Gender': \"Male\"},\n",
    "        {'Id': \"134JMT1244\", 'Full_name': \"Amine azzouz\", 'Status':\"Professor\", 'E-mail': \"amine.azzouz@esprit.tn\", 'Gender': \"Male\"},\n",
    "        {'Id': \"283JMT0987\", 'Full_name': \"Hamza lahmer\", 'Status':\"Administrative\", 'E-mail': \"hamza.lahmer@esprit.tn\", 'Gender':\"Male\"},\n",
    "        {'Id': \"155JMT7806\", 'Full_name': \"Bilel djobbi\", 'Status':\"Professor\", 'E-mail': \"bilel.djobbi@esprit.tn\", 'Gender': \"Male\"},\n",
    "        {'Id': \"185JMT3465\", 'Full_name': \"Youssef khedher\", 'Status':\"Student\", 'E-mail': \"youssef.khedher@esprit.tn\", 'Gender': \"Male\"},\n",
    "        {'Id': \"153JMT1345\", 'Full_name': \"Montassar bouagina\", 'Status':\"Student\", 'E-mail': \"montassar.bouagina@esprit.tn\", 'Gender': \"Male\"},]\n",
    "        #{'Id': \"144JMT5678\", 'Full_name': \"Imen touati\", 'Status':\"Student\", 'E-mail': \"imen.touati@esprit.tn\", 'Gender': \"Female\"},\n",
    "        #{'Id': \"193JMT2346\", 'Full_name': \"Eya gargeh\", 'Status':\"Professor\", 'E-mail': \"eya.gargeh@esprit.tn\", 'Gender': \"Female\"},\n",
    "        #{'Id': \"153JMT1235\", 'Full_name': \"Wiem zouaga\", 'Status':\"Professor\", 'E-mail': \"wiem.zouaga@esprit.tn\", 'Gender': \"Female\"},\n",
    "        #{'Id': \"104JMT7654\", 'Full_name': \"Med hedi riahi\", 'Status':\"Professor\", 'E-mail': \"medhedi.riahi@esprit.tn\", 'Gender': \"Male\"},\n",
    "        #{'Id': \"138JMT7777\", 'Full_name': \"Mourad zerai\", 'Status':\"Administrative\", 'E-mail': \"mourad.zerai@esprit.tn\", 'Gender': \"Male\"},\n",
    "        #{'Id': \"116JMT5467\", 'Full_name': \"Dorra trabelsi\", 'Status':\"Professor\", 'E-mail': \"dorra.trabelsi@esprit.tn\", 'Gender': \"Female\"},\n",
    "        #{'Id': \"116JMT2355\", 'Full_name': \"Sonia mesbah\", 'Status':\"Professor\", 'E-mail': \"sonia.mesbah@esprit.tn\", 'Gender': \"Female\"},\n",
    "        #{'Id': \"114JMT4446\", 'Full_name': \"Mehe taallah\", 'Status':\"Administrative\", 'E-mail': \"mehe.taallah@esprit.tn\", 'Gender': \"Female\"},\n",
    "        #{'Id': \"112JMT7657\", 'Full_name': \"Ayoub boubaker\", 'Status':\"Administrative\", 'E-mail': \"ayoub.boubaker@esprit.tn\", 'Gender': \"Male\"},\n",
    "        #{'Id': \"111JMT3255\", 'Full_name': \"Houssem guenfali\", 'Status':\"Student\", 'E-mail': \"houssem.guenfali@esprit.tn\", 'Gender': \"Male\"},\n",
    "        #{'Id': \"104JMT2345\", 'Full_name': \"Fakhri badreddine\", 'Status':\"Administrative\", 'E-mail': \"fakhri.badreddine@esprit.tn\", 'Gender': \"Male\"},]\n",
    " \n",
    "Dataset = pd.DataFrame(data)\n",
    "Dataset\n",
    "#Dataset.sort_values(by=['Full_name'])"
   ]
  },
  {
   "cell_type": "code",
   "execution_count": 12,
   "id": "696f1c19-c0fa-4203-bc4d-ef2555254f93",
   "metadata": {},
   "outputs": [
    {
     "data": {
      "text/plain": [
       "'Student'"
      ]
     },
     "execution_count": 12,
     "metadata": {},
     "output_type": "execute_result"
    }
   ],
   "source": [
    "Dataset[Dataset[\"Full_name\"] == \"Ahmed barkeoui\"][\"Status\"][0]"
   ]
  },
  {
   "cell_type": "code",
   "execution_count": 14,
   "id": "9570a471-7402-423c-8733-7e995660ffb3",
   "metadata": {},
   "outputs": [
    {
     "data": {
      "text/plain": [
       "['Ahmed barkeoui',\n",
       " 'Oussayma khedher',\n",
       " 'Yassine ben hmida',\n",
       " 'Achraf saad',\n",
       " 'Eya gargeh',\n",
       " 'Khaled jallouli',\n",
       " 'Wiem zouaga',\n",
       " 'Med hedi riahi',\n",
       " 'Mourad zerai',\n",
       " 'Dorra trabelsi',\n",
       " 'Sonia mesbah',\n",
       " 'Wajdi boutiti',\n",
       " 'Dorra ben hassen',\n",
       " 'Ayoub boubaker',\n",
       " 'Houssem guenfali',\n",
       " 'Fakhri badreddine',\n",
       " 'Amine azzouz',\n",
       " 'Hamza lahmer',\n",
       " 'Bilel djobbi',\n",
       " 'Soumaya barkeoui',\n",
       " 'Youssef khedher',\n",
       " 'Montassar bouagina']"
      ]
     },
     "execution_count": 14,
     "metadata": {},
     "output_type": "execute_result"
    }
   ],
   "source": [
    "list(Dataset[\"Full_name\"])"
   ]
  },
  {
   "cell_type": "code",
   "execution_count": 51,
   "id": "25adc3fc-a698-4a23-bc96-e7eb83236cde",
   "metadata": {},
   "outputs": [],
   "source": [
    "Dataset.to_csv(\"../Libraries/Dataset.csv\")"
   ]
  },
  {
   "cell_type": "code",
   "execution_count": 53,
   "id": "453c7b20-a997-4305-b7d3-217e155fe3a2",
   "metadata": {},
   "outputs": [
    {
     "data": {
      "text/html": [
       "<div>\n",
       "<style scoped>\n",
       "    .dataframe tbody tr th:only-of-type {\n",
       "        vertical-align: middle;\n",
       "    }\n",
       "\n",
       "    .dataframe tbody tr th {\n",
       "        vertical-align: top;\n",
       "    }\n",
       "\n",
       "    .dataframe thead th {\n",
       "        text-align: right;\n",
       "    }\n",
       "</style>\n",
       "<table border=\"1\" class=\"dataframe\">\n",
       "  <thead>\n",
       "    <tr style=\"text-align: right;\">\n",
       "      <th></th>\n",
       "      <th>Id</th>\n",
       "      <th>Full_name</th>\n",
       "      <th>Status</th>\n",
       "      <th>E-mail</th>\n",
       "      <th>Gender</th>\n",
       "    </tr>\n",
       "  </thead>\n",
       "  <tbody>\n",
       "    <tr>\n",
       "      <th>0</th>\n",
       "      <td>183JMT3228</td>\n",
       "      <td>Ahmed barkeoui</td>\n",
       "      <td>Professor</td>\n",
       "      <td>ahmed.barkeoui@esprit.tn</td>\n",
       "      <td>Male</td>\n",
       "    </tr>\n",
       "    <tr>\n",
       "      <th>1</th>\n",
       "      <td>159JMT5463</td>\n",
       "      <td>Oussayma khedher</td>\n",
       "      <td>Student</td>\n",
       "      <td>oussayma.khedhe@esprit.tnr</td>\n",
       "      <td>Female</td>\n",
       "    </tr>\n",
       "    <tr>\n",
       "      <th>2</th>\n",
       "      <td>197JMT2345</td>\n",
       "      <td>Yassine ben hmida</td>\n",
       "      <td>Student</td>\n",
       "      <td>yassine.benhmida@esprit.tn</td>\n",
       "      <td>Male</td>\n",
       "    </tr>\n",
       "    <tr>\n",
       "      <th>3</th>\n",
       "      <td>199JMT3425</td>\n",
       "      <td>Achraf saad</td>\n",
       "      <td>Professor</td>\n",
       "      <td>achraf.saad@esprit.tn</td>\n",
       "      <td>Male</td>\n",
       "    </tr>\n",
       "    <tr>\n",
       "      <th>4</th>\n",
       "      <td>150JMT4575</td>\n",
       "      <td>Jihed zammouri</td>\n",
       "      <td>Administrative</td>\n",
       "      <td>jihed.zammouri@esprit.tn</td>\n",
       "      <td>Male</td>\n",
       "    </tr>\n",
       "    <tr>\n",
       "      <th>5</th>\n",
       "      <td>115JMT1244</td>\n",
       "      <td>Wajdi boutiti</td>\n",
       "      <td>Administrative</td>\n",
       "      <td>wajdi.boutiti@esprit.tn</td>\n",
       "      <td>Male</td>\n",
       "    </tr>\n",
       "    <tr>\n",
       "      <th>6</th>\n",
       "      <td>134JMT1244</td>\n",
       "      <td>Amine azzouz</td>\n",
       "      <td>Professor</td>\n",
       "      <td>amine.azzouz@esprit.tn</td>\n",
       "      <td>Male</td>\n",
       "    </tr>\n",
       "    <tr>\n",
       "      <th>7</th>\n",
       "      <td>283JMT0987</td>\n",
       "      <td>Hamza lahmer</td>\n",
       "      <td>Administrative</td>\n",
       "      <td>hamza.lahmer@esprit.tn</td>\n",
       "      <td>Male</td>\n",
       "    </tr>\n",
       "    <tr>\n",
       "      <th>8</th>\n",
       "      <td>155JMT7806</td>\n",
       "      <td>Bilel djobbi</td>\n",
       "      <td>Professor</td>\n",
       "      <td>bilel.djobbi@esprit.tn</td>\n",
       "      <td>Male</td>\n",
       "    </tr>\n",
       "    <tr>\n",
       "      <th>9</th>\n",
       "      <td>185JMT3465</td>\n",
       "      <td>Youssef khedher</td>\n",
       "      <td>Student</td>\n",
       "      <td>youssef.khedher@esprit.tn</td>\n",
       "      <td>Male</td>\n",
       "    </tr>\n",
       "    <tr>\n",
       "      <th>10</th>\n",
       "      <td>153JMT1345</td>\n",
       "      <td>Montassar bouagina</td>\n",
       "      <td>Student</td>\n",
       "      <td>montassar.bouagina@esprit.tn</td>\n",
       "      <td>Male</td>\n",
       "    </tr>\n",
       "  </tbody>\n",
       "</table>\n",
       "</div>"
      ],
      "text/plain": [
       "            Id           Full_name          Status  \\\n",
       "0   183JMT3228      Ahmed barkeoui       Professor   \n",
       "1   159JMT5463    Oussayma khedher         Student   \n",
       "2   197JMT2345   Yassine ben hmida         Student   \n",
       "3   199JMT3425         Achraf saad       Professor   \n",
       "4   150JMT4575      Jihed zammouri  Administrative   \n",
       "5   115JMT1244       Wajdi boutiti  Administrative   \n",
       "6   134JMT1244        Amine azzouz       Professor   \n",
       "7   283JMT0987        Hamza lahmer  Administrative   \n",
       "8   155JMT7806        Bilel djobbi       Professor   \n",
       "9   185JMT3465     Youssef khedher         Student   \n",
       "10  153JMT1345  Montassar bouagina         Student   \n",
       "\n",
       "                          E-mail  Gender  \n",
       "0       ahmed.barkeoui@esprit.tn    Male  \n",
       "1     oussayma.khedhe@esprit.tnr  Female  \n",
       "2     yassine.benhmida@esprit.tn    Male  \n",
       "3          achraf.saad@esprit.tn    Male  \n",
       "4       jihed.zammouri@esprit.tn    Male  \n",
       "5        wajdi.boutiti@esprit.tn    Male  \n",
       "6         amine.azzouz@esprit.tn    Male  \n",
       "7         hamza.lahmer@esprit.tn    Male  \n",
       "8         bilel.djobbi@esprit.tn    Male  \n",
       "9      youssef.khedher@esprit.tn    Male  \n",
       "10  montassar.bouagina@esprit.tn    Male  "
      ]
     },
     "execution_count": 53,
     "metadata": {},
     "output_type": "execute_result"
    }
   ],
   "source": [
    "Dataset = pd.read_csv(\"../Libraries/Dataset.csv\" ,index_col=0)\n",
    "Dataset"
   ]
  },
  {
   "cell_type": "code",
   "execution_count": 58,
   "id": "f99b2202-c369-40cd-987d-2ffc32485945",
   "metadata": {},
   "outputs": [
    {
     "data": {
      "text/html": [
       "<div>\n",
       "<style scoped>\n",
       "    .dataframe tbody tr th:only-of-type {\n",
       "        vertical-align: middle;\n",
       "    }\n",
       "\n",
       "    .dataframe tbody tr th {\n",
       "        vertical-align: top;\n",
       "    }\n",
       "\n",
       "    .dataframe thead th {\n",
       "        text-align: right;\n",
       "    }\n",
       "</style>\n",
       "<table border=\"1\" class=\"dataframe\">\n",
       "  <thead>\n",
       "    <tr style=\"text-align: right;\">\n",
       "      <th></th>\n",
       "      <th>Id</th>\n",
       "      <th>Full_name</th>\n",
       "      <th>Status</th>\n",
       "      <th>E-mail</th>\n",
       "      <th>Gender</th>\n",
       "    </tr>\n",
       "  </thead>\n",
       "  <tbody>\n",
       "    <tr>\n",
       "      <th>0</th>\n",
       "      <td>183JMT3228</td>\n",
       "      <td>Ahmed barkeoui</td>\n",
       "      <td>Student</td>\n",
       "      <td>ahmed.barkeoui@esprit.tn</td>\n",
       "      <td>Male</td>\n",
       "    </tr>\n",
       "    <tr>\n",
       "      <th>12</th>\n",
       "      <td>114JMT4446</td>\n",
       "      <td>Dorra ben hassen</td>\n",
       "      <td>Administrative</td>\n",
       "      <td>dorra.benhassen@esprit.tn</td>\n",
       "      <td>Female</td>\n",
       "    </tr>\n",
       "    <tr>\n",
       "      <th>15</th>\n",
       "      <td>104JMT2345</td>\n",
       "      <td>Fakhri badreddine</td>\n",
       "      <td>Administrative</td>\n",
       "      <td>fakhri.badreddine@esprit.tn</td>\n",
       "      <td>Male</td>\n",
       "    </tr>\n",
       "    <tr>\n",
       "      <th>18</th>\n",
       "      <td>155JMT7806</td>\n",
       "      <td>Bilel djobbi</td>\n",
       "      <td>Professor</td>\n",
       "      <td>bilel.djobbi@esprit.tn</td>\n",
       "      <td>Male</td>\n",
       "    </tr>\n",
       "    <tr>\n",
       "      <th>19</th>\n",
       "      <td>144JMT5678</td>\n",
       "      <td>Soumaya barkeoui</td>\n",
       "      <td>Student</td>\n",
       "      <td>soumaya.barkeoui@esprit.tn</td>\n",
       "      <td>Female</td>\n",
       "    </tr>\n",
       "  </tbody>\n",
       "</table>\n",
       "</div>"
      ],
      "text/plain": [
       "            Id          Full_name          Status  \\\n",
       "0   183JMT3228     Ahmed barkeoui         Student   \n",
       "12  114JMT4446   Dorra ben hassen  Administrative   \n",
       "15  104JMT2345  Fakhri badreddine  Administrative   \n",
       "18  155JMT7806       Bilel djobbi       Professor   \n",
       "19  144JMT5678   Soumaya barkeoui         Student   \n",
       "\n",
       "                         E-mail  Gender  \n",
       "0      ahmed.barkeoui@esprit.tn    Male  \n",
       "12    dorra.benhassen@esprit.tn  Female  \n",
       "15  fakhri.badreddine@esprit.tn    Male  \n",
       "18       bilel.djobbi@esprit.tn    Male  \n",
       "19   soumaya.barkeoui@esprit.tn  Female  "
      ]
     },
     "execution_count": 58,
     "metadata": {},
     "output_type": "execute_result"
    }
   ],
   "source": [
    "l = ['Ahmed barkeoui ','Bilel djobbi ','Dorra ben hassen ','Fakhri badreddine ','Soumaya barkeoui ']\n",
    "ff = Dataset[Dataset[\"Full_name\"].isin([w[:-1] for w in l])]\n",
    "ff"
   ]
  },
  {
   "cell_type": "code",
   "execution_count": 35,
   "id": "c84901f4-bb29-46e4-9d5a-f7ac1663a3e1",
   "metadata": {},
   "outputs": [
    {
     "data": {
      "text/plain": [
       "['Ahmed barkeoui',\n",
       " 'Bilel djobbi',\n",
       " 'Dorra ben hassen',\n",
       " 'Fakhri badreddine',\n",
       " 'Soumaya barkeoui']"
      ]
     },
     "execution_count": 35,
     "metadata": {},
     "output_type": "execute_result"
    }
   ],
   "source": [
    "today_list = ['Ahmed barkeoui ','Bilel djobbi ','Dorra ben hassen ','Fakhri badreddine ','Soumaya barkeoui ']\n",
    "[w[:-1] for w in today_list]"
   ]
  },
  {
   "cell_type": "code",
   "execution_count": 36,
   "id": "0d956afd-3bc6-493a-950c-ed8bfa6574b9",
   "metadata": {},
   "outputs": [
    {
     "data": {
      "text/html": [
       "<div>\n",
       "<style scoped>\n",
       "    .dataframe tbody tr th:only-of-type {\n",
       "        vertical-align: middle;\n",
       "    }\n",
       "\n",
       "    .dataframe tbody tr th {\n",
       "        vertical-align: top;\n",
       "    }\n",
       "\n",
       "    .dataframe thead th {\n",
       "        text-align: right;\n",
       "    }\n",
       "</style>\n",
       "<table border=\"1\" class=\"dataframe\">\n",
       "  <thead>\n",
       "    <tr style=\"text-align: right;\">\n",
       "      <th></th>\n",
       "      <th>Status</th>\n",
       "      <th>Nbr</th>\n",
       "    </tr>\n",
       "  </thead>\n",
       "  <tbody>\n",
       "    <tr>\n",
       "      <th>0</th>\n",
       "      <td>Student</td>\n",
       "      <td>1</td>\n",
       "    </tr>\n",
       "    <tr>\n",
       "      <th>1</th>\n",
       "      <td>Administrative</td>\n",
       "      <td>1</td>\n",
       "    </tr>\n",
       "    <tr>\n",
       "      <th>2</th>\n",
       "      <td>Professor</td>\n",
       "      <td>1</td>\n",
       "    </tr>\n",
       "  </tbody>\n",
       "</table>\n",
       "</div>"
      ],
      "text/plain": [
       "           Status  Nbr\n",
       "0         Student    1\n",
       "1  Administrative    1\n",
       "2       Professor    1"
      ]
     },
     "execution_count": 36,
     "metadata": {},
     "output_type": "execute_result"
    }
   ],
   "source": [
    "from collections import Counter\n",
    "gg = pd.DataFrame(Counter(Dataset[Dataset[\"Full_name\"].isin([w[:-1] for w in today_list])][\"Status\"]).most_common(),columns=['Status','Nbr'])\n",
    "gg"
   ]
  },
  {
   "cell_type": "code",
   "execution_count": 37,
   "id": "4bdb9826-3f7c-4cb3-83bb-260a1943e030",
   "metadata": {},
   "outputs": [
    {
     "data": {
      "text/plain": [
       "{'Student': 1, 'Administrative': 1, 'Professor': 1}"
      ]
     },
     "execution_count": 37,
     "metadata": {},
     "output_type": "execute_result"
    }
   ],
   "source": [
    "res = {list(gg[\"Status\"])[i]: list(gg[\"Nbr\"])[i] for i in range(len(list(gg[\"Status\"])))}\n",
    "res"
   ]
  },
  {
   "cell_type": "code",
   "execution_count": 40,
   "id": "4fa7ec8f-c0a9-4f0a-be12-49e618476a2b",
   "metadata": {},
   "outputs": [
    {
     "name": "stdout",
     "output_type": "stream",
     "text": [
      "[2, 1]\n",
      "['Professor', 'Student']\n"
     ]
    }
   ],
   "source": [
    "today_list = ['Bilel djobbi ','Dorra ben hassen ','Hamza lahmer ','Ahmed barkeoui ','Soumaya barkeoui ']\n",
    "data_chart = pd.DataFrame(Counter(Dataset[Dataset[\"Full_name\"].isin([w[:-1] for w in today_list])][\"Status\"]).most_common(),columns=['Status','Nbr'])\n",
    "res = {list(data_chart[\"Status\"])[i]: list(data_chart[\"Nbr\"])[i] for i in range(len(list(data_chart[\"Status\"])))}\n",
    "print(list(res.values()))\n",
    "print(list(data_chart[\"Status\"]))"
   ]
  },
  {
   "cell_type": "code",
   "execution_count": null,
   "id": "9b76f651-54f9-4ffd-823e-e315dec471bf",
   "metadata": {},
   "outputs": [],
   "source": []
  },
  {
   "cell_type": "code",
   "execution_count": 21,
   "id": "f3f886d3-dff0-472e-bc66-cd590649348a",
   "metadata": {
    "collapsed": true,
    "jupyter": {
     "outputs_hidden": true
    },
    "tags": []
   },
   "outputs": [
    {
     "data": {
      "text/plain": [
       "[{'Id': '183JMT3228',\n",
       "  'Full_name': 'Ahmed barkeoui',\n",
       "  'Status': 'Student',\n",
       "  'E-mail': 'ahmed.barkeoui@esprit.tn',\n",
       "  'Gender': 'Male'},\n",
       " {'Id': '159JMT5463',\n",
       "  'Full_name': 'Oussayma khedher',\n",
       "  'Status': 'Student',\n",
       "  'E-mail': 'oussayma.khedhe@esprit.tnr',\n",
       "  'Gender': 'Female'},\n",
       " {'Id': '197JMT2345',\n",
       "  'Full_name': 'Yassine ben hmida',\n",
       "  'Status': 'Student',\n",
       "  'E-mail': 'yassine.benhmida@esprit.tn',\n",
       "  'Gender': 'Male'},\n",
       " {'Id': '199JMT3425',\n",
       "  'Full_name': 'Achraf saad',\n",
       "  'Status': 'Professor',\n",
       "  'E-mail': 'achraf.saad@esprit.tn',\n",
       "  'Gender': 'Male'},\n",
       " {'Id': '193JMT2346',\n",
       "  'Full_name': 'Eya gargeh',\n",
       "  'Status': 'Professor',\n",
       "  'E-mail': 'eya.gargeh@esprit.tn',\n",
       "  'Gender': 'Female'},\n",
       " {'Id': '150JMT4575',\n",
       "  'Full_name': 'Khaled jallouli',\n",
       "  'Status': 'Administrative',\n",
       "  'E-mail': 'khaled.jallouli@esprit.tn',\n",
       "  'Gender': 'Male'},\n",
       " {'Id': '153JMT1235',\n",
       "  'Full_name': 'Wiem zouaga',\n",
       "  'Status': 'Professor',\n",
       "  'E-mail': 'wiem.zouaga@esprit.tn',\n",
       "  'Gender': 'Female'},\n",
       " {'Id': '104JMT7654',\n",
       "  'Full_name': 'Med hedi riahi',\n",
       "  'Status': 'Professor',\n",
       "  'E-mail': 'medhedi.riahi@esprit.tn',\n",
       "  'Gender': 'Male'},\n",
       " {'Id': '138JMT7777',\n",
       "  'Full_name': 'Mourad zerai',\n",
       "  'Status': 'Administrative',\n",
       "  'E-mail': 'mourad.zerai@esprit.tn',\n",
       "  'Gender': 'Male'},\n",
       " {'Id': '116JMT5467',\n",
       "  'Full_name': 'Dorra trabelsi',\n",
       "  'Status': 'Professor',\n",
       "  'E-mail': 'dorra.trabelsi@esprit.tn',\n",
       "  'Gender': 'Female'},\n",
       " {'Id': '116JMT2355',\n",
       "  'Full_name': 'Sonia mesbah',\n",
       "  'Status': 'Professor',\n",
       "  'E-mail': 'sonia.mesbah@esprit.tn',\n",
       "  'Gender': 'Female'},\n",
       " {'Id': '115JMT1244',\n",
       "  'Full_name': 'Wajdi boutiti',\n",
       "  'Status': 'Administrative',\n",
       "  'E-mail': 'wajdi.boutiti@esprit.tn',\n",
       "  'Gender': 'Male'},\n",
       " {'Id': '114JMT4446',\n",
       "  'Full_name': 'Dorra ben hassen',\n",
       "  'Status': 'Administrative',\n",
       "  'E-mail': 'dorra.benhassen@esprit.tn',\n",
       "  'Gender': 'Female'},\n",
       " {'Id': '112JMT7657',\n",
       "  'Full_name': 'Ayoub boubaker',\n",
       "  'Status': 'Administrative',\n",
       "  'E-mail': 'ayoub.boubaker@esprit.tn',\n",
       "  'Gender': 'Male'},\n",
       " {'Id': '111JMT3255',\n",
       "  'Full_name': 'Houssem guenfali',\n",
       "  'Status': 'Student',\n",
       "  'E-mail': 'houssem.guenfali@esprit.tn',\n",
       "  'Gender': 'Male'},\n",
       " {'Id': '104JMT2345',\n",
       "  'Full_name': 'Fakhri badreddine',\n",
       "  'Status': 'Administrative',\n",
       "  'E-mail': 'fakhri.badreddine@esprit.tn',\n",
       "  'Gender': 'Male'},\n",
       " {'Id': '134JMT1244',\n",
       "  'Full_name': 'Amine azzouz',\n",
       "  'Status': 'Professor',\n",
       "  'E-mail': 'amine.azzouz@esprit.tn',\n",
       "  'Gender': 'Male'},\n",
       " {'Id': '283JMT0987',\n",
       "  'Full_name': 'Hamza lahmer',\n",
       "  'Status': 'Professor',\n",
       "  'E-mail': 'hamza.lahmer@esprit.tn',\n",
       "  'Gender': 'Male'},\n",
       " {'Id': '155JMT7806',\n",
       "  'Full_name': 'Bilel djobbi',\n",
       "  'Status': 'Professor',\n",
       "  'E-mail': 'bilel.djobbi@esprit.tn',\n",
       "  'Gender': 'Male'},\n",
       " {'Id': '144JMT5678',\n",
       "  'Full_name': 'Soumaya barkeoui',\n",
       "  'Status': 'Student',\n",
       "  'E-mail': 'soumaya.barkeoui@esprit.tn',\n",
       "  'Gender': 'Female'},\n",
       " {'Id': '185JMT3465',\n",
       "  'Full_name': 'Youssef khedher',\n",
       "  'Status': 'Student',\n",
       "  'E-mail': 'youssef.khedher@esprit.tn',\n",
       "  'Gender': 'Male'},\n",
       " {'Id': '153JMT1345',\n",
       "  'Full_name': 'Montassar bouagina',\n",
       "  'Status': 'Student',\n",
       "  'E-mail': 'montassar.bouagina@esprit.tn',\n",
       "  'Gender': 'Male'}]"
      ]
     },
     "execution_count": 21,
     "metadata": {},
     "output_type": "execute_result"
    }
   ],
   "source": [
    "dictt[list(Dataset[\"Full_name\"])] = list(Dataset[\"Status\"])\n",
    "res = {}\n",
    "for key in list(Dataset[\"Full_name\"]):\n",
    "    for value in list(Dataset[\"Status\"]):\n",
    "        res[key] = value\n",
    "        test_values.remove(value)\n",
    "        break  "
   ]
  },
  {
   "cell_type": "code",
   "execution_count": 25,
   "id": "09ba60a0-04a2-4c2d-a19e-54551031b900",
   "metadata": {},
   "outputs": [
    {
     "data": {
      "text/plain": [
       "{'Ahmed barkeoui': '183JMT3228|Student|ahmed.barkeoui@esprit.tn|Male',\n",
       " 'Oussayma khedher': '159JMT5463|Student|oussayma.khedhe@esprit.tnr|Female',\n",
       " 'Yassine ben hmida': '197JMT2345|Student|yassine.benhmida@esprit.tn|Male',\n",
       " 'Achraf saad': '199JMT3425|Professor|achraf.saad@esprit.tn|Male',\n",
       " 'Eya gargeh': '193JMT2346|Professor|eya.gargeh@esprit.tn|Female',\n",
       " 'Khaled jallouli': '150JMT4575|Administrative|khaled.jallouli@esprit.tn|Male',\n",
       " 'Wiem zouaga': '153JMT1235|Professor|wiem.zouaga@esprit.tn|Female',\n",
       " 'Med hedi riahi': '104JMT7654|Professor|medhedi.riahi@esprit.tn|Male',\n",
       " 'Mourad zerai': '138JMT7777|Administrative|mourad.zerai@esprit.tn|Male',\n",
       " 'Dorra trabelsi': '116JMT5467|Professor|dorra.trabelsi@esprit.tn|Female',\n",
       " 'Sonia mesbah': '116JMT2355|Professor|sonia.mesbah@esprit.tn|Female',\n",
       " 'Wajdi boutiti': '115JMT1244|Administrative|wajdi.boutiti@esprit.tn|Male',\n",
       " 'Dorra ben hassen': '114JMT4446|Administrative|dorra.benhassen@esprit.tn|Female',\n",
       " 'Ayoub boubaker': '112JMT7657|Administrative|ayoub.boubaker@esprit.tn|Male',\n",
       " 'Houssem guenfali': '111JMT3255|Student|houssem.guenfali@esprit.tn|Male',\n",
       " 'Fakhri badreddine': '104JMT2345|Administrative|fakhri.badreddine@esprit.tn|Male',\n",
       " 'Amine azzouz': '134JMT1244|Professor|amine.azzouz@esprit.tn|Male',\n",
       " 'Hamza lahmer': '283JMT0987|Professor|hamza.lahmer@esprit.tn|Male',\n",
       " 'Bilel djobbi': '155JMT7806|Professor|bilel.djobbi@esprit.tn|Male',\n",
       " 'Soumaya barkeoui': '144JMT5678|Student|soumaya.barkeoui@esprit.tn|Female',\n",
       " 'Youssef khedher': '185JMT3465|Student|youssef.khedher@esprit.tn|Male',\n",
       " 'Montassar bouagina': '153JMT1345|Student|montassar.bouagina@esprit.tn|Male'}"
      ]
     },
     "execution_count": 25,
     "metadata": {},
     "output_type": "execute_result"
    }
   ],
   "source": [
    "res = {}\n",
    "res = {list(Dataset[\"Full_name\"])[i]: list(Dataset[\"Id\"])[i]+\"|\"+list(Dataset[\"Status\"])[i]+\"|\"+list(Dataset[\"E-mail\"])[i]+\"|\"+list(Dataset[\"Gender\"])[i] for i in range(len(list(Dataset[\"Full_name\"])))}\n",
    "res"
   ]
  },
  {
   "cell_type": "code",
   "execution_count": 18,
   "id": "12509f60-5233-4bd9-b0d8-a2b424c9ab74",
   "metadata": {},
   "outputs": [
    {
     "data": {
      "text/plain": [
       "['Ahmed barkeoui',\n",
       " 'Oussayma khedher',\n",
       " 'Yassine ben hmida',\n",
       " 'Achraf saad',\n",
       " 'Eya gargeh',\n",
       " 'Khaled jallouli',\n",
       " 'Wiem zouaga',\n",
       " 'Med hedi riahi',\n",
       " 'Mourad zerai',\n",
       " 'Dorra trabelsi',\n",
       " 'Sonia mesbah',\n",
       " 'Wajdi boutiti',\n",
       " 'Dorra ben hassen',\n",
       " 'Ayoub boubaker',\n",
       " 'Houssem guenfali',\n",
       " 'Fakhri badreddine',\n",
       " 'Amine azzouz',\n",
       " 'Hamza lahmer',\n",
       " 'Bilel djobbi',\n",
       " 'Soumaya barkeoui',\n",
       " 'Youssef khedher',\n",
       " 'Montassar bouagina']"
      ]
     },
     "execution_count": 18,
     "metadata": {},
     "output_type": "execute_result"
    }
   ],
   "source": [
    "list(Dataset[\"Full_name\"])"
   ]
  },
  {
   "cell_type": "code",
   "execution_count": null,
   "id": "7a561d24-8597-4bd1-9924-bd1eb721711b",
   "metadata": {},
   "outputs": [],
   "source": []
  }
 ],
 "metadata": {
  "kernelspec": {
   "display_name": "Python 3",
   "language": "python",
   "name": "python3"
  },
  "language_info": {
   "codemirror_mode": {
    "name": "ipython",
    "version": 3
   },
   "file_extension": ".py",
   "mimetype": "text/x-python",
   "name": "python",
   "nbconvert_exporter": "python",
   "pygments_lexer": "ipython3",
   "version": "3.9.5"
  }
 },
 "nbformat": 4,
 "nbformat_minor": 5
}
