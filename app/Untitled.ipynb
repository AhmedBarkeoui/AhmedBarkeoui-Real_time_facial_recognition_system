{
 "cells": [
  {
   "cell_type": "code",
   "execution_count": 1,
   "id": "e5c1cb1c-a7ac-4d13-a9fd-ee0466fd6a74",
   "metadata": {},
   "outputs": [
    {
     "data": {
      "text/plain": [
       "'video'"
      ]
     },
     "execution_count": 1,
     "metadata": {},
     "output_type": "execute_result"
    }
   ],
   "source": [
    "extension=\"image\" if \"mp4\" in [\"jpeg\",\"jpg\",\"png\",\"gif\",\"tif\",\"psd\",\"pdf\",\"eps\",\"ai\",\"indd\",\"svg\"] else \"video\"\n",
    "extension"
   ]
  },
  {
   "cell_type": "code",
   "execution_count": 1,
   "id": "5c696b81-b069-4f0c-93c7-0b0dcd23f13d",
   "metadata": {},
   "outputs": [
    {
     "data": {
      "text/plain": [
       "{'Eya gargah ': '27/07/2021 03:54:07',\n",
       " 'Oussayma khedher ': '16/05/2021 18:14:13',\n",
       " 'Sadok laouissi ': '14/05/2021 20:15:07',\n",
       " 'Yassine ben hamida ': '24/07/2021 23:00:27',\n",
       " 'Achref saad ': '25/07/2021 00:43:20',\n",
       " 'Ahmed barkeoui ': '26/07/2021 16:41:33',\n",
       " 'Dorra ben hassen ': '05/08/2021 18:17:56',\n",
       " 'Wajdi boutiti ': '05/08/2021 18:27:10',\n",
       " 'Joey tribiani ': '07/08/2021 01:24:18',\n",
       " 'Monica geller ': '07/08/2021 01:34:48',\n",
       " 'Chandler bing ': '07/08/2021 01:41:40',\n",
       " 'Ross geller ': '07/08/2021 13:10:13',\n",
       " 'Rachel green ': '07/08/2021 13:13:02',\n",
       " 'Criss ronal ': '08/08/2021 12:34:03',\n",
       " 'WAEL123 KFOURI6574 ': '08/08/2021 12:38:24'}"
      ]
     },
     "execution_count": 1,
     "metadata": {},
     "output_type": "execute_result"
    }
   ],
   "source": [
    "import numpy as np\n",
    "Data_Added =  np.load('../Libraries/Date_Added.npy', allow_pickle= True ).item()\n",
    "Data_Added "
   ]
  },
  {
   "cell_type": "code",
   "execution_count": 9,
   "id": "9376f061-07b8-4627-9437-76a5fc582619",
   "metadata": {},
   "outputs": [],
   "source": [
    "Data_Added  = {}"
   ]
  },
  {
   "cell_type": "code",
   "execution_count": 10,
   "id": "95cf0f26-5840-4065-ad60-d3350b780a24",
   "metadata": {},
   "outputs": [
    {
     "data": {
      "text/plain": [
       "{'Cristiano ronaldo ': '28/06/2021 16:01:17',\n",
       " 'Eya gargah ': '27/07/2021 03:54:07',\n",
       " 'Oussayma khedher ': '16/05/2021 18:14:13',\n",
       " 'Sadok laouissi ': '14/05/2021 20:15:07',\n",
       " 'Yassine ben hamida ': '24/07/2021 23:00:27',\n",
       " 'Achref saad ': '25/07/2021 00:43:20',\n",
       " 'Ahmed barkeoui ': '26/07/2021 16:41:33',\n",
       " 'Khaled jallouli ': '26/07/2021 16:41:33'}"
      ]
     },
     "execution_count": 10,
     "metadata": {},
     "output_type": "execute_result"
    }
   ],
   "source": [
    "Data_Added[\"Cristiano ronaldo \"]= '28/06/2021 16:01:17'\n",
    "Data_Added[\"Eya gargah \"]= '27/07/2021 03:54:07'\n",
    "Data_Added[\"Oussayma khedher \"]= '16/05/2021 18:14:13'\n",
    "Data_Added[\"Sadok laouissi \"]= '14/05/2021 20:15:07'\n",
    "Data_Added[\"Yassine ben hamida \"]= '24/07/2021 23:00:27'\n",
    "Data_Added[\"Achref saad \"]= '25/07/2021 00:43:20'\n",
    "Data_Added[\"Ahmed barkeoui \"]= '26/07/2021 16:41:33'\n",
    "Data_Added[\"Khaled jallouli \"]= '26/07/2021 16:41:33'\n",
    "\n",
    "Data_Added"
   ]
  },
  {
   "cell_type": "code",
   "execution_count": 12,
   "id": "992dd0dc-dc8a-4dc4-b883-5325db0b6271",
   "metadata": {},
   "outputs": [],
   "source": [
    "data = \"01:34:04\""
   ]
  },
  {
   "cell_type": "code",
   "execution_count": 14,
   "id": "c2f95705-40e9-4772-8c6f-416e0e9e46fe",
   "metadata": {},
   "outputs": [
    {
     "data": {
      "text/plain": [
       "'01:34:03'"
      ]
     },
     "execution_count": 14,
     "metadata": {},
     "output_type": "execute_result"
    }
   ],
   "source": [
    "start_max = data.split(':')[0]+\":\"+data.split(':')[1]+\":\"+str(int(data.split(':')[2])-1).zfill(2)\n",
    "start_max"
   ]
  },
  {
   "cell_type": "code",
   "execution_count": 5,
   "id": "65792db4-2067-4092-9abc-50a075820ac5",
   "metadata": {},
   "outputs": [
    {
     "data": {
      "text/plain": [
       "'01'"
      ]
     },
     "execution_count": 5,
     "metadata": {},
     "output_type": "execute_result"
    }
   ],
   "source": [
    "str(1).zfill(2)"
   ]
  },
  {
   "cell_type": "code",
   "execution_count": 7,
   "id": "67879674-af92-4ce1-9ce9-f7b1394d6e09",
   "metadata": {},
   "outputs": [
    {
     "name": "stdout",
     "output_type": "stream",
     "text": [
      "56\n"
     ]
    }
   ],
   "source": [
    "print(str(56).zfill(2))"
   ]
  },
  {
   "cell_type": "code",
   "execution_count": 3,
   "id": "c91e8b5b-1863-443a-a0fe-ed40c623a156",
   "metadata": {},
   "outputs": [
    {
     "data": {
      "text/plain": [
       "{'Eya gargah ': '27/07/2021 03:54:07',\n",
       " 'Oussayma khedher ': '16/05/2021 18:14:13',\n",
       " 'Sadok laouissi ': '14/05/2021 20:15:07',\n",
       " 'Yassine ben hamida ': '24/07/2021 23:00:27',\n",
       " 'Achref saad ': '25/07/2021 00:43:20',\n",
       " 'Ahmed barkeoui ': '26/07/2021 16:41:33',\n",
       " 'Dorra ben hassen ': '05/08/2021 18:17:56',\n",
       " 'Wajdi boutiti ': '05/08/2021 18:27:10',\n",
       " 'Joey tribiani ': '07/08/2021 01:24:18',\n",
       " 'Monica geller ': '07/08/2021 01:34:48',\n",
       " 'Chandler bing ': '07/08/2021 01:41:40',\n",
       " 'Ross geller ': '07/08/2021 13:10:13',\n",
       " 'Rachel green ': '07/08/2021 13:13:02',\n",
       " 'Criss ronal ': '08/08/2021 12:34:03'}"
      ]
     },
     "execution_count": 3,
     "metadata": {},
     "output_type": "execute_result"
    }
   ],
   "source": [
    "del Data_Added['WAEL123 KFOURI6574 ']\n",
    "Data_Added"
   ]
  },
  {
   "cell_type": "code",
   "execution_count": 7,
   "id": "a5c83fce-4b65-4cb5-942c-b5d20bec6e5d",
   "metadata": {},
   "outputs": [],
   "source": [
    "del Data['WAEL123_KFOURI6574_001-3']"
   ]
  },
  {
   "cell_type": "code",
   "execution_count": 9,
   "id": "e11b6e7d-9574-4633-8440-b73a82d00d9e",
   "metadata": {
    "collapsed": true,
    "jupyter": {
     "outputs_hidden": true
    },
    "tags": []
   },
   "outputs": [
    {
     "data": {
      "text/plain": [
       "['Achref_saad_001-0',\n",
       " 'Achref_saad_001-1',\n",
       " 'Achref_saad_001-2',\n",
       " 'Achref_saad_001-3',\n",
       " 'Achref_saad_002-0',\n",
       " 'Achref_saad_002-1',\n",
       " 'Achref_saad_002-2',\n",
       " 'Achref_saad_002-3',\n",
       " 'Achref_saad_003-0',\n",
       " 'Achref_saad_003-1',\n",
       " 'Achref_saad_003-2',\n",
       " 'Achref_saad_003-3',\n",
       " 'Ahmed_barkeoui_001-0',\n",
       " 'Ahmed_barkeoui_001-1',\n",
       " 'Ahmed_barkeoui_001-2',\n",
       " 'Ahmed_barkeoui_001-3',\n",
       " 'Ahmed_barkeoui_002-0',\n",
       " 'Ahmed_barkeoui_002-1',\n",
       " 'Ahmed_barkeoui_002-2',\n",
       " 'Ahmed_barkeoui_002-3',\n",
       " 'Chandler_bing_001-0',\n",
       " 'Chandler_bing_001-1',\n",
       " 'Chandler_bing_001-2',\n",
       " 'Chandler_bing_001-3',\n",
       " 'Chandler_bing_002-0',\n",
       " 'Chandler_bing_002-1',\n",
       " 'Chandler_bing_002-2',\n",
       " 'Chandler_bing_002-3',\n",
       " 'Chandler_bing_003-0',\n",
       " 'Chandler_bing_003-1',\n",
       " 'Chandler_bing_003-2',\n",
       " 'Chandler_bing_003-3',\n",
       " 'Chandler_bing_004-0',\n",
       " 'Chandler_bing_004-1',\n",
       " 'Chandler_bing_004-2',\n",
       " 'Chandler_bing_004-3',\n",
       " 'Criss_ronal_001-0',\n",
       " 'Criss_ronal_001-1',\n",
       " 'Criss_ronal_001-2',\n",
       " 'Criss_ronal_001-3',\n",
       " 'Criss_ronal_002-0',\n",
       " 'Criss_ronal_002-1',\n",
       " 'Criss_ronal_002-2',\n",
       " 'Criss_ronal_002-3',\n",
       " 'Criss_ronal_003-0',\n",
       " 'Criss_ronal_003-1',\n",
       " 'Criss_ronal_003-2',\n",
       " 'Criss_ronal_003-3',\n",
       " 'Criss_ronal_004-0',\n",
       " 'Criss_ronal_004-1',\n",
       " 'Criss_ronal_004-2',\n",
       " 'Criss_ronal_004-3',\n",
       " 'Criss_ronal_005-0',\n",
       " 'Criss_ronal_005-1',\n",
       " 'Criss_ronal_005-2',\n",
       " 'Criss_ronal_005-3',\n",
       " 'Dorra_ben_hassen_001-0',\n",
       " 'Dorra_ben_hassen_001-1',\n",
       " 'Dorra_ben_hassen_001-2',\n",
       " 'Dorra_ben_hassen_001-3',\n",
       " 'Dorra_ben_hassen_002-0',\n",
       " 'Dorra_ben_hassen_002-1',\n",
       " 'Dorra_ben_hassen_002-2',\n",
       " 'Dorra_ben_hassen_002-3',\n",
       " 'Dorra_ben_hassen_003-0',\n",
       " 'Dorra_ben_hassen_003-1',\n",
       " 'Dorra_ben_hassen_003-2',\n",
       " 'Dorra_ben_hassen_003-3',\n",
       " 'Eya_gargah_001-0',\n",
       " 'Eya_gargah_001-1',\n",
       " 'Eya_gargah_001-2',\n",
       " 'Eya_gargah_001-3',\n",
       " 'Eya_gargah_002-0',\n",
       " 'Eya_gargah_002-1',\n",
       " 'Eya_gargah_002-2',\n",
       " 'Eya_gargah_002-3',\n",
       " 'Eya_gargah_003-0',\n",
       " 'Eya_gargah_003-1',\n",
       " 'Eya_gargah_003-2',\n",
       " 'Eya_gargah_003-3',\n",
       " 'Eya_gargah_004-0',\n",
       " 'Eya_gargah_004-1',\n",
       " 'Eya_gargah_004-2',\n",
       " 'Eya_gargah_004-3',\n",
       " 'Joey_tribiani_001-0',\n",
       " 'Joey_tribiani_001-1',\n",
       " 'Joey_tribiani_001-2',\n",
       " 'Joey_tribiani_001-3',\n",
       " 'Joey_tribiani_002-0',\n",
       " 'Joey_tribiani_002-1',\n",
       " 'Joey_tribiani_002-2',\n",
       " 'Joey_tribiani_002-3',\n",
       " 'Joey_tribiani_003-0',\n",
       " 'Joey_tribiani_003-1',\n",
       " 'Joey_tribiani_003-2',\n",
       " 'Joey_tribiani_003-3',\n",
       " 'Joey_tribiani_004-0',\n",
       " 'Joey_tribiani_004-1',\n",
       " 'Joey_tribiani_004-2',\n",
       " 'Joey_tribiani_004-3',\n",
       " 'Monica_geller_001-0',\n",
       " 'Monica_geller_001-1',\n",
       " 'Monica_geller_001-2',\n",
       " 'Monica_geller_001-3',\n",
       " 'Monica_geller_002-0',\n",
       " 'Monica_geller_002-1',\n",
       " 'Monica_geller_002-2',\n",
       " 'Monica_geller_002-3',\n",
       " 'Monica_geller_003-0',\n",
       " 'Monica_geller_003-1',\n",
       " 'Monica_geller_003-2',\n",
       " 'Monica_geller_003-3',\n",
       " 'Monica_geller_004-0',\n",
       " 'Monica_geller_004-1',\n",
       " 'Monica_geller_004-2',\n",
       " 'Monica_geller_004-3',\n",
       " 'Oussayma_khedher_001-0',\n",
       " 'Oussayma_khedher_001-1',\n",
       " 'Oussayma_khedher_001-2',\n",
       " 'Oussayma_khedher_001-3',\n",
       " 'Oussayma_khedher_002-0',\n",
       " 'Oussayma_khedher_002-1',\n",
       " 'Oussayma_khedher_002-2',\n",
       " 'Oussayma_khedher_002-3',\n",
       " 'Oussayma_khedher_003-0',\n",
       " 'Oussayma_khedher_003-1',\n",
       " 'Oussayma_khedher_003-2',\n",
       " 'Oussayma_khedher_003-3',\n",
       " 'Oussayma_khedher_004-0',\n",
       " 'Oussayma_khedher_004-1',\n",
       " 'Oussayma_khedher_004-2',\n",
       " 'Oussayma_khedher_004-3',\n",
       " 'Rachel_green_001-0',\n",
       " 'Rachel_green_001-1',\n",
       " 'Rachel_green_001-2',\n",
       " 'Rachel_green_001-3',\n",
       " 'Rachel_green_002-0',\n",
       " 'Rachel_green_002-1',\n",
       " 'Rachel_green_002-2',\n",
       " 'Rachel_green_002-3',\n",
       " 'Rachel_green_003-0',\n",
       " 'Rachel_green_003-1',\n",
       " 'Rachel_green_003-2',\n",
       " 'Rachel_green_003-3',\n",
       " 'Rachel_green_004-0',\n",
       " 'Rachel_green_004-1',\n",
       " 'Rachel_green_004-2',\n",
       " 'Rachel_green_004-3',\n",
       " 'Ross_geller_001-0',\n",
       " 'Ross_geller_001-1',\n",
       " 'Ross_geller_001-2',\n",
       " 'Ross_geller_001-3',\n",
       " 'Ross_geller_002-0',\n",
       " 'Ross_geller_002-1',\n",
       " 'Ross_geller_002-2',\n",
       " 'Ross_geller_002-3',\n",
       " 'Ross_geller_003-0',\n",
       " 'Ross_geller_003-1',\n",
       " 'Ross_geller_003-2',\n",
       " 'Ross_geller_003-3',\n",
       " 'Ross_geller_004-0',\n",
       " 'Ross_geller_004-1',\n",
       " 'Ross_geller_004-2',\n",
       " 'Ross_geller_004-3',\n",
       " 'Sadok_laouissi_001-0',\n",
       " 'Sadok_laouissi_001-1',\n",
       " 'Sadok_laouissi_001-2',\n",
       " 'Sadok_laouissi_001-3',\n",
       " 'Sadok_laouissi_002-0',\n",
       " 'Sadok_laouissi_002-1',\n",
       " 'Sadok_laouissi_002-2',\n",
       " 'Sadok_laouissi_002-3',\n",
       " 'Sadok_laouissi_003-0',\n",
       " 'Sadok_laouissi_003-1',\n",
       " 'Sadok_laouissi_003-2',\n",
       " 'Sadok_laouissi_003-3',\n",
       " 'Sadok_laouissi_004-0',\n",
       " 'Sadok_laouissi_004-1',\n",
       " 'Sadok_laouissi_004-2',\n",
       " 'Sadok_laouissi_004-3',\n",
       " 'Wajdi_boutiti_001-0',\n",
       " 'Wajdi_boutiti_001-1',\n",
       " 'Wajdi_boutiti_001-2',\n",
       " 'Wajdi_boutiti_001-3',\n",
       " 'Wajdi_boutiti_002-0',\n",
       " 'Wajdi_boutiti_002-1',\n",
       " 'Wajdi_boutiti_002-2',\n",
       " 'Wajdi_boutiti_002-3',\n",
       " 'Wajdi_boutiti_003-0',\n",
       " 'Wajdi_boutiti_003-1',\n",
       " 'Wajdi_boutiti_003-2',\n",
       " 'Wajdi_boutiti_003-3',\n",
       " 'Yassine_ben_hamida_001-0',\n",
       " 'Yassine_ben_hamida_001-1',\n",
       " 'Yassine_ben_hamida_001-2',\n",
       " 'Yassine_ben_hamida_001-3',\n",
       " 'Yassine_ben_hamida_002-0',\n",
       " 'Yassine_ben_hamida_002-1',\n",
       " 'Yassine_ben_hamida_002-2',\n",
       " 'Yassine_ben_hamida_002-3',\n",
       " 'Yassine_ben_hamida_003-0',\n",
       " 'Yassine_ben_hamida_003-1',\n",
       " 'Yassine_ben_hamida_003-2',\n",
       " 'Yassine_ben_hamida_003-3',\n",
       " 'Yassine_ben_hamida_004-0',\n",
       " 'Yassine_ben_hamida_004-1',\n",
       " 'Yassine_ben_hamida_004-2',\n",
       " 'Yassine_ben_hamida_004-3']"
      ]
     },
     "execution_count": 9,
     "metadata": {},
     "output_type": "execute_result"
    }
   ],
   "source": [
    "list(Data.keys())"
   ]
  },
  {
   "cell_type": "code",
   "execution_count": 10,
   "id": "6c70d180-be0f-4b07-8af7-73dc002d6ca8",
   "metadata": {},
   "outputs": [],
   "source": [
    "np.save(\"../Libraries/Django.npy\", Data)"
   ]
  },
  {
   "cell_type": "code",
   "execution_count": null,
   "id": "1cfe81b0-a71e-4953-898f-437b7334a862",
   "metadata": {},
   "outputs": [],
   "source": [
    "fullpath = os.path.join(path, filename + '.' + filetype)\n",
    "img.save(\"../Libraries/Django.npy\")"
   ]
  },
  {
   "cell_type": "code",
   "execution_count": 11,
   "id": "7119636e-802c-4a3c-8d9f-9566a2596f1e",
   "metadata": {},
   "outputs": [],
   "source": [
    "np.save(\"../Libraries/Date_Added.npy\", Data_Added)"
   ]
  },
  {
   "cell_type": "code",
   "execution_count": 17,
   "id": "e9695849-faa8-4a80-b491-34a269d9c07c",
   "metadata": {
    "collapsed": true,
    "jupyter": {
     "outputs_hidden": true
    },
    "tags": []
   },
   "outputs": [
    {
     "data": {
      "text/plain": [
       "['Achref_saad_001-0',\n",
       " 'Achref_saad_001-1',\n",
       " 'Achref_saad_001-2',\n",
       " 'Achref_saad_001-3',\n",
       " 'Achref_saad_002-0',\n",
       " 'Achref_saad_002-1',\n",
       " 'Achref_saad_002-2',\n",
       " 'Achref_saad_002-3',\n",
       " 'Achref_saad_003-0',\n",
       " 'Achref_saad_003-1',\n",
       " 'Achref_saad_003-2',\n",
       " 'Achref_saad_003-3',\n",
       " 'Ahmed_barkeoui_001-0',\n",
       " 'Ahmed_barkeoui_001-1',\n",
       " 'Ahmed_barkeoui_001-2',\n",
       " 'Ahmed_barkeoui_001-3',\n",
       " 'Ahmed_barkeoui_002-0',\n",
       " 'Ahmed_barkeoui_002-1',\n",
       " 'Ahmed_barkeoui_002-2',\n",
       " 'Ahmed_barkeoui_002-3',\n",
       " 'Chandler_bing_001-0',\n",
       " 'Chandler_bing_001-1',\n",
       " 'Chandler_bing_001-2',\n",
       " 'Chandler_bing_001-3',\n",
       " 'Chandler_bing_002-0',\n",
       " 'Chandler_bing_002-1',\n",
       " 'Chandler_bing_002-2',\n",
       " 'Chandler_bing_002-3',\n",
       " 'Chandler_bing_003-0',\n",
       " 'Chandler_bing_003-1',\n",
       " 'Chandler_bing_003-2',\n",
       " 'Chandler_bing_003-3',\n",
       " 'Chandler_bing_004-0',\n",
       " 'Chandler_bing_004-1',\n",
       " 'Chandler_bing_004-2',\n",
       " 'Chandler_bing_004-3',\n",
       " 'Criss_ronal_001-0',\n",
       " 'Criss_ronal_001-1',\n",
       " 'Criss_ronal_001-2',\n",
       " 'Criss_ronal_001-3',\n",
       " 'Criss_ronal_002-0',\n",
       " 'Criss_ronal_002-1',\n",
       " 'Criss_ronal_002-2',\n",
       " 'Criss_ronal_002-3',\n",
       " 'Criss_ronal_003-0',\n",
       " 'Criss_ronal_003-1',\n",
       " 'Criss_ronal_003-2',\n",
       " 'Criss_ronal_003-3',\n",
       " 'Criss_ronal_004-0',\n",
       " 'Criss_ronal_004-1',\n",
       " 'Criss_ronal_004-2',\n",
       " 'Criss_ronal_004-3',\n",
       " 'Criss_ronal_005-0',\n",
       " 'Criss_ronal_005-1',\n",
       " 'Criss_ronal_005-2',\n",
       " 'Criss_ronal_005-3',\n",
       " 'Dorra_ben_hassen_001-0',\n",
       " 'Dorra_ben_hassen_001-1',\n",
       " 'Dorra_ben_hassen_001-2',\n",
       " 'Dorra_ben_hassen_001-3',\n",
       " 'Dorra_ben_hassen_002-0',\n",
       " 'Dorra_ben_hassen_002-1',\n",
       " 'Dorra_ben_hassen_002-2',\n",
       " 'Dorra_ben_hassen_002-3',\n",
       " 'Dorra_ben_hassen_003-0',\n",
       " 'Dorra_ben_hassen_003-1',\n",
       " 'Dorra_ben_hassen_003-2',\n",
       " 'Dorra_ben_hassen_003-3',\n",
       " 'Eya_gargah_001-0',\n",
       " 'Eya_gargah_001-1',\n",
       " 'Eya_gargah_001-2',\n",
       " 'Eya_gargah_001-3',\n",
       " 'Eya_gargah_002-0',\n",
       " 'Eya_gargah_002-1',\n",
       " 'Eya_gargah_002-2',\n",
       " 'Eya_gargah_002-3',\n",
       " 'Eya_gargah_003-0',\n",
       " 'Eya_gargah_003-1',\n",
       " 'Eya_gargah_003-2',\n",
       " 'Eya_gargah_003-3',\n",
       " 'Eya_gargah_004-0',\n",
       " 'Eya_gargah_004-1',\n",
       " 'Eya_gargah_004-2',\n",
       " 'Eya_gargah_004-3',\n",
       " 'Joey_tribiani_001-0',\n",
       " 'Joey_tribiani_001-1',\n",
       " 'Joey_tribiani_001-2',\n",
       " 'Joey_tribiani_001-3',\n",
       " 'Joey_tribiani_002-0',\n",
       " 'Joey_tribiani_002-1',\n",
       " 'Joey_tribiani_002-2',\n",
       " 'Joey_tribiani_002-3',\n",
       " 'Joey_tribiani_003-0',\n",
       " 'Joey_tribiani_003-1',\n",
       " 'Joey_tribiani_003-2',\n",
       " 'Joey_tribiani_003-3',\n",
       " 'Joey_tribiani_004-0',\n",
       " 'Joey_tribiani_004-1',\n",
       " 'Joey_tribiani_004-2',\n",
       " 'Joey_tribiani_004-3',\n",
       " 'Leo_juventus_001-0',\n",
       " 'Leo_juventus_001-1',\n",
       " 'Leo_juventus_001-2',\n",
       " 'Leo_juventus_001-3',\n",
       " 'Leo_juventus_002-0',\n",
       " 'Leo_juventus_002-1',\n",
       " 'Leo_juventus_002-2',\n",
       " 'Leo_juventus_002-3',\n",
       " 'Leo_juventus_003-0',\n",
       " 'Leo_juventus_003-1',\n",
       " 'Leo_juventus_003-2',\n",
       " 'Leo_juventus_003-3',\n",
       " 'Monica_geller_001-0',\n",
       " 'Monica_geller_001-1',\n",
       " 'Monica_geller_001-2',\n",
       " 'Monica_geller_001-3',\n",
       " 'Monica_geller_002-0',\n",
       " 'Monica_geller_002-1',\n",
       " 'Monica_geller_002-2',\n",
       " 'Monica_geller_002-3',\n",
       " 'Monica_geller_003-0',\n",
       " 'Monica_geller_003-1',\n",
       " 'Monica_geller_003-2',\n",
       " 'Monica_geller_003-3',\n",
       " 'Monica_geller_004-0',\n",
       " 'Monica_geller_004-1',\n",
       " 'Monica_geller_004-2',\n",
       " 'Monica_geller_004-3',\n",
       " 'Oussayma_khedher_001-0',\n",
       " 'Oussayma_khedher_001-1',\n",
       " 'Oussayma_khedher_001-2',\n",
       " 'Oussayma_khedher_001-3',\n",
       " 'Oussayma_khedher_002-0',\n",
       " 'Oussayma_khedher_002-1',\n",
       " 'Oussayma_khedher_002-2',\n",
       " 'Oussayma_khedher_002-3',\n",
       " 'Oussayma_khedher_003-0',\n",
       " 'Oussayma_khedher_003-1',\n",
       " 'Oussayma_khedher_003-2',\n",
       " 'Oussayma_khedher_003-3',\n",
       " 'Oussayma_khedher_004-0',\n",
       " 'Oussayma_khedher_004-1',\n",
       " 'Oussayma_khedher_004-2',\n",
       " 'Oussayma_khedher_004-3',\n",
       " 'Rachel_green_001-0',\n",
       " 'Rachel_green_001-1',\n",
       " 'Rachel_green_001-2',\n",
       " 'Rachel_green_001-3',\n",
       " 'Rachel_green_002-0',\n",
       " 'Rachel_green_002-1',\n",
       " 'Rachel_green_002-2',\n",
       " 'Rachel_green_002-3',\n",
       " 'Rachel_green_003-0',\n",
       " 'Rachel_green_003-1',\n",
       " 'Rachel_green_003-2',\n",
       " 'Rachel_green_003-3',\n",
       " 'Rachel_green_004-0',\n",
       " 'Rachel_green_004-1',\n",
       " 'Rachel_green_004-2',\n",
       " 'Rachel_green_004-3',\n",
       " 'Ross_geller_001-0',\n",
       " 'Ross_geller_001-1',\n",
       " 'Ross_geller_001-2',\n",
       " 'Ross_geller_001-3',\n",
       " 'Ross_geller_002-0',\n",
       " 'Ross_geller_002-1',\n",
       " 'Ross_geller_002-2',\n",
       " 'Ross_geller_002-3',\n",
       " 'Ross_geller_003-0',\n",
       " 'Ross_geller_003-1',\n",
       " 'Ross_geller_003-2',\n",
       " 'Ross_geller_003-3',\n",
       " 'Ross_geller_004-0',\n",
       " 'Ross_geller_004-1',\n",
       " 'Ross_geller_004-2',\n",
       " 'Ross_geller_004-3',\n",
       " 'Sadok_laouissi_001-0',\n",
       " 'Sadok_laouissi_001-1',\n",
       " 'Sadok_laouissi_001-2',\n",
       " 'Sadok_laouissi_001-3',\n",
       " 'Sadok_laouissi_002-0',\n",
       " 'Sadok_laouissi_002-1',\n",
       " 'Sadok_laouissi_002-2',\n",
       " 'Sadok_laouissi_002-3',\n",
       " 'Sadok_laouissi_003-0',\n",
       " 'Sadok_laouissi_003-1',\n",
       " 'Sadok_laouissi_003-2',\n",
       " 'Sadok_laouissi_003-3',\n",
       " 'Sadok_laouissi_004-0',\n",
       " 'Sadok_laouissi_004-1',\n",
       " 'Sadok_laouissi_004-2',\n",
       " 'Sadok_laouissi_004-3',\n",
       " 'Wajdi_boutiti_001-0',\n",
       " 'Wajdi_boutiti_001-1',\n",
       " 'Wajdi_boutiti_001-2',\n",
       " 'Wajdi_boutiti_001-3',\n",
       " 'Wajdi_boutiti_002-0',\n",
       " 'Wajdi_boutiti_002-1',\n",
       " 'Wajdi_boutiti_002-2',\n",
       " 'Wajdi_boutiti_002-3',\n",
       " 'Wajdi_boutiti_003-0',\n",
       " 'Wajdi_boutiti_003-1',\n",
       " 'Wajdi_boutiti_003-2',\n",
       " 'Wajdi_boutiti_003-3',\n",
       " 'Yassine_ben_hamida_001-0',\n",
       " 'Yassine_ben_hamida_001-1',\n",
       " 'Yassine_ben_hamida_001-2',\n",
       " 'Yassine_ben_hamida_001-3',\n",
       " 'Yassine_ben_hamida_002-0',\n",
       " 'Yassine_ben_hamida_002-1',\n",
       " 'Yassine_ben_hamida_002-2',\n",
       " 'Yassine_ben_hamida_002-3',\n",
       " 'Yassine_ben_hamida_003-0',\n",
       " 'Yassine_ben_hamida_003-1',\n",
       " 'Yassine_ben_hamida_003-2',\n",
       " 'Yassine_ben_hamida_003-3',\n",
       " 'Yassine_ben_hamida_004-0',\n",
       " 'Yassine_ben_hamida_004-1',\n",
       " 'Yassine_ben_hamida_004-2',\n",
       " 'Yassine_ben_hamida_004-3']"
      ]
     },
     "execution_count": 17,
     "metadata": {},
     "output_type": "execute_result"
    }
   ],
   "source": [
    "import numpy as np\n",
    "Data =  np.load('../Libraries/Django.npy', allow_pickle= True ).item()\n",
    "list(Data.keys())"
   ]
  },
  {
   "cell_type": "code",
   "execution_count": null,
   "id": "0e8ce16a-c8bb-463d-96dc-a62645f332a3",
   "metadata": {
    "tags": []
   },
   "outputs": [],
   "source": [
    "Data['Ahmed_barkeoui_001-0']"
   ]
  },
  {
   "cell_type": "code",
   "execution_count": null,
   "id": "1afa6ff0-e85d-40e0-a51a-374797011ed6",
   "metadata": {},
   "outputs": [],
   "source": [
    "test = {}\n",
    "test[\"Ahmed_barkeoui_001-0\"] = Data['Ahmed_barkeoui_001-0']\n",
    "test[\"Ahmed_barkeoui_001-1\"] = Data['Ahmed_barkeoui_001-1']\n",
    "np.save(\"../Libraries/test.npy\", test)"
   ]
  },
  {
   "cell_type": "code",
   "execution_count": null,
   "id": "bf9244cf-801c-4d17-a535-cb06aa277ba0",
   "metadata": {},
   "outputs": [],
   "source": []
  },
  {
   "cell_type": "code",
   "execution_count": null,
   "id": "c5977034-5422-435c-a4b6-0f7bea233c12",
   "metadata": {},
   "outputs": [],
   "source": [
    "import cv2\n",
    "\n",
    "start_time_ms = 1000\n",
    "stop_time_ms = 2000\n",
    "vidcap = cv2.VideoCapture('C://Users//Oussayma Khedher//Real_time_facial_recognition_system//files//tt.mp4')\n",
    "\n",
    "vidcap.set(cv2.CAP_PROP_POS_MSEC,start_time_ms)\n",
    "while vidcap.get(cv2.CAP_PROP_POS_MSEC) <= stop_time_ms:\n",
    "    success, image = vidcap.read()\n",
    "    gray = cv2.cvtColor(image, cv2.COLOR_BGR2RGB)\n",
    "    fig = plt.figure()\n",
    "    plt.imshow(gray)"
   ]
  },
  {
   "cell_type": "code",
   "execution_count": null,
   "id": "1d8d1d1f-d15e-4b16-9b09-2af171d9398d",
   "metadata": {},
   "outputs": [],
   "source": []
  },
  {
   "cell_type": "code",
   "execution_count": 7,
   "id": "61746cb4-5bdb-4384-a12b-2bcfb0c8f707",
   "metadata": {
    "collapsed": true,
    "jupyter": {
     "outputs_hidden": true
    },
    "tags": []
   },
   "outputs": [
    {
     "data": {
      "text/plain": [
       "['Achref_saad_001-0',\n",
       " 'Achref_saad_001-1',\n",
       " 'Achref_saad_001-2',\n",
       " 'Achref_saad_001-3',\n",
       " 'Achref_saad_002-0',\n",
       " 'Achref_saad_002-1',\n",
       " 'Achref_saad_002-2',\n",
       " 'Achref_saad_002-3',\n",
       " 'Achref_saad_003-0',\n",
       " 'Achref_saad_003-1',\n",
       " 'Achref_saad_003-2',\n",
       " 'Achref_saad_003-3',\n",
       " 'Ahmed_barkeoui_001-0',\n",
       " 'Ahmed_barkeoui_001-1',\n",
       " 'Ahmed_barkeoui_001-2',\n",
       " 'Ahmed_barkeoui_001-3',\n",
       " 'Ahmed_barkeoui_002-0',\n",
       " 'Ahmed_barkeoui_002-1',\n",
       " 'Ahmed_barkeoui_002-2',\n",
       " 'Ahmed_barkeoui_002-3',\n",
       " 'Ahmed_barkeoui_003-0',\n",
       " 'Ahmed_barkeoui_003-1',\n",
       " 'Ahmed_barkeoui_003-2',\n",
       " 'Ahmed_barkeoui_003-3',\n",
       " 'Ahmed_barkeoui_004-0',\n",
       " 'Ahmed_barkeoui_004-1',\n",
       " 'Ahmed_barkeoui_004-2',\n",
       " 'Ahmed_barkeoui_004-3',\n",
       " 'Cristiano_ronaldo_001-0',\n",
       " 'Cristiano_ronaldo_001-1',\n",
       " 'Cristiano_ronaldo_001-2',\n",
       " 'Cristiano_ronaldo_001-3',\n",
       " 'Cristiano_ronaldo_002-0',\n",
       " 'Cristiano_ronaldo_002-1',\n",
       " 'Cristiano_ronaldo_002-2',\n",
       " 'Cristiano_ronaldo_002-3',\n",
       " 'Cristiano_ronaldo_003-0',\n",
       " 'Cristiano_ronaldo_003-1',\n",
       " 'Cristiano_ronaldo_003-2',\n",
       " 'Cristiano_ronaldo_003-3',\n",
       " 'Eya_gargah_001-0',\n",
       " 'Eya_gargah_001-1',\n",
       " 'Eya_gargah_001-2',\n",
       " 'Eya_gargah_001-3',\n",
       " 'Eya_gargah_002-0',\n",
       " 'Eya_gargah_002-1',\n",
       " 'Eya_gargah_002-2',\n",
       " 'Eya_gargah_002-3',\n",
       " 'Eya_gargah_003-0',\n",
       " 'Eya_gargah_003-1',\n",
       " 'Eya_gargah_003-2',\n",
       " 'Eya_gargah_003-3',\n",
       " 'Eya_gargah_004-0',\n",
       " 'Eya_gargah_004-1',\n",
       " 'Eya_gargah_004-2',\n",
       " 'Eya_gargah_004-3',\n",
       " 'Khaled_jallouli_001-0',\n",
       " 'Khaled_jallouli_001-1',\n",
       " 'Khaled_jallouli_001-2',\n",
       " 'Khaled_jallouli_001-3',\n",
       " 'Khaled_jallouli_002-0',\n",
       " 'Khaled_jallouli_002-1',\n",
       " 'Khaled_jallouli_002-2',\n",
       " 'Khaled_jallouli_002-3',\n",
       " 'Khaled_jallouli_003-0',\n",
       " 'Khaled_jallouli_003-1',\n",
       " 'Khaled_jallouli_003-2',\n",
       " 'Khaled_jallouli_003-3',\n",
       " 'Khaled_jallouli_004-0',\n",
       " 'Khaled_jallouli_004-1',\n",
       " 'Khaled_jallouli_004-2',\n",
       " 'Khaled_jallouli_004-3',\n",
       " 'Oussayma_khedher_001-0',\n",
       " 'Oussayma_khedher_001-1',\n",
       " 'Oussayma_khedher_001-2',\n",
       " 'Oussayma_khedher_001-3',\n",
       " 'Oussayma_khedher_002-0',\n",
       " 'Oussayma_khedher_002-1',\n",
       " 'Oussayma_khedher_002-2',\n",
       " 'Oussayma_khedher_002-3',\n",
       " 'Oussayma_khedher_003-0',\n",
       " 'Oussayma_khedher_003-1',\n",
       " 'Oussayma_khedher_003-2',\n",
       " 'Oussayma_khedher_003-3',\n",
       " 'Oussayma_khedher_004-0',\n",
       " 'Oussayma_khedher_004-1',\n",
       " 'Oussayma_khedher_004-2',\n",
       " 'Oussayma_khedher_004-3',\n",
       " 'Sadok_laouissi_001-0',\n",
       " 'Sadok_laouissi_001-1',\n",
       " 'Sadok_laouissi_001-2',\n",
       " 'Sadok_laouissi_001-3',\n",
       " 'Sadok_laouissi_002-0',\n",
       " 'Sadok_laouissi_002-1',\n",
       " 'Sadok_laouissi_002-2',\n",
       " 'Sadok_laouissi_002-3',\n",
       " 'Sadok_laouissi_003-0',\n",
       " 'Sadok_laouissi_003-1',\n",
       " 'Sadok_laouissi_003-2',\n",
       " 'Sadok_laouissi_003-3',\n",
       " 'Sadok_laouissi_004-0',\n",
       " 'Sadok_laouissi_004-1',\n",
       " 'Sadok_laouissi_004-2',\n",
       " 'Sadok_laouissi_004-3',\n",
       " 'Yassine_ben_hamida_001-0',\n",
       " 'Yassine_ben_hamida_001-1',\n",
       " 'Yassine_ben_hamida_001-2',\n",
       " 'Yassine_ben_hamida_001-3',\n",
       " 'Yassine_ben_hamida_002-0',\n",
       " 'Yassine_ben_hamida_002-1',\n",
       " 'Yassine_ben_hamida_002-2',\n",
       " 'Yassine_ben_hamida_002-3',\n",
       " 'Yassine_ben_hamida_003-0',\n",
       " 'Yassine_ben_hamida_003-1',\n",
       " 'Yassine_ben_hamida_003-2',\n",
       " 'Yassine_ben_hamida_003-3',\n",
       " 'Yassine_ben_hamida_004-0',\n",
       " 'Yassine_ben_hamida_004-1',\n",
       " 'Yassine_ben_hamida_004-2',\n",
       " 'Yassine_ben_hamida_004-3']"
      ]
     },
     "execution_count": 7,
     "metadata": {},
     "output_type": "execute_result"
    }
   ],
   "source": [
    "import numpy as np\n",
    "Data =  np.load('../Libraries/Django.npy', allow_pickle= True ).item()\n",
    "list(Data.keys())"
   ]
  },
  {
   "cell_type": "code",
   "execution_count": 1,
   "id": "6bd9ad96-5cc2-4366-8d88-6313c656541b",
   "metadata": {},
   "outputs": [],
   "source": [
    "dict_ = {'a':30,'a':40}"
   ]
  },
  {
   "cell_type": "code",
   "execution_count": 3,
   "id": "13c9258c-ecef-4569-ad21-8a3b190585c2",
   "metadata": {},
   "outputs": [
    {
     "data": {
      "text/plain": [
       "{'a': 40}"
      ]
     },
     "execution_count": 3,
     "metadata": {},
     "output_type": "execute_result"
    }
   ],
   "source": [
    "dict_"
   ]
  },
  {
   "cell_type": "code",
   "execution_count": 10,
   "id": "bf4e28ab-6c98-49ed-9e62-09022679cb89",
   "metadata": {},
   "outputs": [],
   "source": [
    "import pandas as pd"
   ]
  },
  {
   "cell_type": "code",
   "execution_count": null,
   "id": "f3b78403-0828-47f7-b7f5-f9b7164f2848",
   "metadata": {},
   "outputs": [],
   "source": [
    "History = pd.DataFrame()"
   ]
  },
  {
   "cell_type": "code",
   "execution_count": 14,
   "id": "18aea9d0-18a4-4cc6-86e8-0e50a5970547",
   "metadata": {},
   "outputs": [],
   "source": [
    "import datetime\n",
    "import pandas as pd\n",
    "import numpy as np\n",
    "\n",
    "todays_date = datetime.datetime.now().date()\n",
    "index = pd.date_range(todays_date-datetime.timedelta(10), periods=10, freq='D')\n",
    "\n",
    "columns = ['A','B', 'C']"
   ]
  },
  {
   "cell_type": "code",
   "execution_count": 15,
   "id": "e61cebb1-3207-448e-ad00-88d4964b2a6c",
   "metadata": {},
   "outputs": [],
   "source": [
    "df_ = pd.DataFrame(index=index, columns=columns)\n",
    "#df_ = df_.fillna(0) # with 0s rather than NaNs"
   ]
  },
  {
   "cell_type": "code",
   "execution_count": 24,
   "id": "fd292468-2f72-49f2-898f-ceb9070fe215",
   "metadata": {},
   "outputs": [],
   "source": [
    "from datetime import datetime\n",
    "History = pd.DataFrame(columns=['Person','Date','Time'])\n",
    "date_string = str(datetime.now().strftime(\"%d/%m/%Y\"))\n",
    "time_string = str(datetime.now().strftime(\"%H:%M:%S\"))"
   ]
  },
  {
   "cell_type": "code",
   "execution_count": 79,
   "id": "d4be4b9b-5ad3-424b-88d4-dafdeb7f888e",
   "metadata": {},
   "outputs": [],
   "source": [
    "History = History.append(dict(zip(History.columns,['dorra kh', date_string,time_string])), ignore_index=True)"
   ]
  },
  {
   "cell_type": "code",
   "execution_count": 25,
   "id": "c669d117-2d67-4f05-bffa-ed0fd7dd0e8c",
   "metadata": {},
   "outputs": [
    {
     "data": {
      "text/html": [
       "<div>\n",
       "<style scoped>\n",
       "    .dataframe tbody tr th:only-of-type {\n",
       "        vertical-align: middle;\n",
       "    }\n",
       "\n",
       "    .dataframe tbody tr th {\n",
       "        vertical-align: top;\n",
       "    }\n",
       "\n",
       "    .dataframe thead th {\n",
       "        text-align: right;\n",
       "    }\n",
       "</style>\n",
       "<table border=\"1\" class=\"dataframe\">\n",
       "  <thead>\n",
       "    <tr style=\"text-align: right;\">\n",
       "      <th></th>\n",
       "      <th>Person</th>\n",
       "      <th>Date</th>\n",
       "      <th>Time</th>\n",
       "    </tr>\n",
       "  </thead>\n",
       "  <tbody>\n",
       "  </tbody>\n",
       "</table>\n",
       "</div>"
      ],
      "text/plain": [
       "Empty DataFrame\n",
       "Columns: [Person, Date, Time]\n",
       "Index: []"
      ]
     },
     "execution_count": 25,
     "metadata": {},
     "output_type": "execute_result"
    }
   ],
   "source": [
    "History"
   ]
  },
  {
   "cell_type": "code",
   "execution_count": 9,
   "id": "d85990c0-2b97-4904-8d99-4763012d0e5c",
   "metadata": {},
   "outputs": [],
   "source": [
    "mylist=[\"Unkown\",\"Ahmed barkeoui\"]\n",
    "for i in mylist:\n",
    "    date_string = str(datetime.now().strftime(\"%d/%m/%Y\"))\n",
    "    time_string = str(datetime.now().strftime(\"%H:%M:%S\"))\n",
    "    History = History.append(dict(zip(History.columns,[i, date_string,time_string])), ignore_index=True)"
   ]
  },
  {
   "cell_type": "code",
   "execution_count": 10,
   "id": "6a7dd745-87a9-44df-81f8-5a6a548e8278",
   "metadata": {},
   "outputs": [
    {
     "data": {
      "text/html": [
       "<div>\n",
       "<style scoped>\n",
       "    .dataframe tbody tr th:only-of-type {\n",
       "        vertical-align: middle;\n",
       "    }\n",
       "\n",
       "    .dataframe tbody tr th {\n",
       "        vertical-align: top;\n",
       "    }\n",
       "\n",
       "    .dataframe thead th {\n",
       "        text-align: right;\n",
       "    }\n",
       "</style>\n",
       "<table border=\"1\" class=\"dataframe\">\n",
       "  <thead>\n",
       "    <tr style=\"text-align: right;\">\n",
       "      <th></th>\n",
       "      <th>Person</th>\n",
       "      <th>Date</th>\n",
       "      <th>Time</th>\n",
       "    </tr>\n",
       "  </thead>\n",
       "  <tbody>\n",
       "    <tr>\n",
       "      <th>0</th>\n",
       "      <td>Unkown</td>\n",
       "      <td>30/08/2021</td>\n",
       "      <td>16:09:12</td>\n",
       "    </tr>\n",
       "    <tr>\n",
       "      <th>1</th>\n",
       "      <td>Ahmed barkeoui</td>\n",
       "      <td>30/08/2021</td>\n",
       "      <td>16:09:12</td>\n",
       "    </tr>\n",
       "  </tbody>\n",
       "</table>\n",
       "</div>"
      ],
      "text/plain": [
       "           Person        Date      Time\n",
       "0          Unkown  30/08/2021  16:09:12\n",
       "1  Ahmed barkeoui  30/08/2021  16:09:12"
      ]
     },
     "execution_count": 10,
     "metadata": {},
     "output_type": "execute_result"
    }
   ],
   "source": [
    "History"
   ]
  },
  {
   "cell_type": "code",
   "execution_count": 81,
   "id": "5544eb18-ff4d-4135-947b-259698c95a1b",
   "metadata": {},
   "outputs": [],
   "source": [
    "History = History.append(dict(zip(History.columns,['Ahmed Barkeoui', '29/08/2021','13:14:55'])), ignore_index=True)\n",
    "History = History.append(dict(zip(History.columns,['Oussayma khedher ', '30/08/2021','20:33:42'])), ignore_index=True)\n",
    "History = History.append(dict(zip(History.columns,['Achraf saad', '30/08/2021','10:00:05'])), ignore_index=True)\n",
    "History = History.append(dict(zip(History.columns,['Yassine ben hamida ', '22/08/2021','14:54:55'])), ignore_index=True)\n",
    "History = History.append(dict(zip(History.columns,['Achref saad ', '12/08/2021','15:54:25'])), ignore_index=True)\n",
    "History = History.append(dict(zip(History.columns,['Eya gargah ', '12/08/2021','09:34:05'])), ignore_index=True)\n"
   ]
  },
  {
   "cell_type": "code",
   "execution_count": 24,
   "id": "c0ddb19e-00c8-408e-91c7-f02ae6fd90fc",
   "metadata": {},
   "outputs": [
    {
     "data": {
      "text/html": [
       "<div>\n",
       "<style scoped>\n",
       "    .dataframe tbody tr th:only-of-type {\n",
       "        vertical-align: middle;\n",
       "    }\n",
       "\n",
       "    .dataframe tbody tr th {\n",
       "        vertical-align: top;\n",
       "    }\n",
       "\n",
       "    .dataframe thead th {\n",
       "        text-align: right;\n",
       "    }\n",
       "</style>\n",
       "<table border=\"1\" class=\"dataframe\">\n",
       "  <thead>\n",
       "    <tr style=\"text-align: right;\">\n",
       "      <th></th>\n",
       "      <th>Person</th>\n",
       "      <th>Date</th>\n",
       "      <th>Time</th>\n",
       "    </tr>\n",
       "  </thead>\n",
       "  <tbody>\n",
       "    <tr>\n",
       "      <th>0</th>\n",
       "      <td>Ahmed Barkeoui</td>\n",
       "      <td>29/08/2021</td>\n",
       "      <td>13:14:55</td>\n",
       "    </tr>\n",
       "    <tr>\n",
       "      <th>1</th>\n",
       "      <td>Oussayma khedher</td>\n",
       "      <td>30/08/2021</td>\n",
       "      <td>20:33:42</td>\n",
       "    </tr>\n",
       "    <tr>\n",
       "      <th>2</th>\n",
       "      <td>Achraf saad</td>\n",
       "      <td>30/08/2021</td>\n",
       "      <td>10:00:05</td>\n",
       "    </tr>\n",
       "    <tr>\n",
       "      <th>3</th>\n",
       "      <td>Yassine ben hamida</td>\n",
       "      <td>22/08/2021</td>\n",
       "      <td>14:54:55</td>\n",
       "    </tr>\n",
       "    <tr>\n",
       "      <th>4</th>\n",
       "      <td>Achref saad</td>\n",
       "      <td>12/08/2021</td>\n",
       "      <td>15:54:25</td>\n",
       "    </tr>\n",
       "    <tr>\n",
       "      <th>5</th>\n",
       "      <td>Eya gargah</td>\n",
       "      <td>12/08/2021</td>\n",
       "      <td>09:34:05</td>\n",
       "    </tr>\n",
       "  </tbody>\n",
       "</table>\n",
       "</div>"
      ],
      "text/plain": [
       "                Person        Date      Time\n",
       "0       Ahmed Barkeoui  29/08/2021  13:14:55\n",
       "1    Oussayma khedher   30/08/2021  20:33:42\n",
       "2          Achraf saad  30/08/2021  10:00:05\n",
       "3  Yassine ben hamida   22/08/2021  14:54:55\n",
       "4         Achref saad   12/08/2021  15:54:25\n",
       "5          Eya gargah   12/08/2021  09:34:05"
      ]
     },
     "execution_count": 24,
     "metadata": {},
     "output_type": "execute_result"
    }
   ],
   "source": [
    "History"
   ]
  },
  {
   "cell_type": "code",
   "execution_count": 82,
   "id": "59500d8b-a997-4d88-8c96-819e5fdf3fce",
   "metadata": {},
   "outputs": [],
   "source": [
    "History.to_csv(\"../Libraries/History.csv\")"
   ]
  },
  {
   "cell_type": "code",
   "execution_count": 37,
   "id": "833287de-bfff-4463-a07e-ecd90ff735c4",
   "metadata": {},
   "outputs": [
    {
     "data": {
      "text/plain": [
       "['95', '95', '95', '96', '97', '98', '99']"
      ]
     },
     "execution_count": 37,
     "metadata": {},
     "output_type": "execute_result"
    }
   ],
   "source": [
    "list(df_[df_[\"Person\"]== \"James\"]['Date']"
   ]
  },
  {
   "cell_type": "code",
   "execution_count": 39,
   "id": "7a2d55ec-0670-41fa-9dbe-a7280916ebc3",
   "metadata": {},
   "outputs": [
    {
     "data": {
      "text/plain": [
       "['James']"
      ]
     },
     "execution_count": 39,
     "metadata": {},
     "output_type": "execute_result"
    }
   ],
   "source": [
    "list(df_[\"Person\"].unique())"
   ]
  },
  {
   "cell_type": "code",
   "execution_count": 4,
   "id": "e0a19ba0-ed85-4f81-b72b-494bb09b4ee8",
   "metadata": {},
   "outputs": [
    {
     "ename": "NameError",
     "evalue": "name 'df_' is not defined",
     "output_type": "error",
     "traceback": [
      "\u001b[1;31m---------------------------------------------------------------------------\u001b[0m",
      "\u001b[1;31mNameError\u001b[0m                                 Traceback (most recent call last)",
      "\u001b[1;32m<ipython-input-4-d1eaaf6611df>\u001b[0m in \u001b[0;36m<module>\u001b[1;34m\u001b[0m\n\u001b[1;32m----> 1\u001b[1;33m \u001b[0mdf_\u001b[0m\u001b[1;33m.\u001b[0m\u001b[0mto_csv\u001b[0m\u001b[1;33m(\u001b[0m\u001b[1;34m\"../Libraries/History.csv\"\u001b[0m\u001b[1;33m)\u001b[0m\u001b[1;33m\u001b[0m\u001b[1;33m\u001b[0m\u001b[0m\n\u001b[0m",
      "\u001b[1;31mNameError\u001b[0m: name 'df_' is not defined"
     ]
    }
   ],
   "source": []
  },
  {
   "cell_type": "code",
   "execution_count": 29,
   "id": "dbba7d8c-dcd5-45fa-8515-17ec8c701a96",
   "metadata": {},
   "outputs": [
    {
     "data": {
      "text/html": [
       "<div>\n",
       "<style scoped>\n",
       "    .dataframe tbody tr th:only-of-type {\n",
       "        vertical-align: middle;\n",
       "    }\n",
       "\n",
       "    .dataframe tbody tr th {\n",
       "        vertical-align: top;\n",
       "    }\n",
       "\n",
       "    .dataframe thead th {\n",
       "        text-align: right;\n",
       "    }\n",
       "</style>\n",
       "<table border=\"1\" class=\"dataframe\">\n",
       "  <thead>\n",
       "    <tr style=\"text-align: right;\">\n",
       "      <th></th>\n",
       "      <th>Person</th>\n",
       "      <th>Date</th>\n",
       "      <th>Time</th>\n",
       "    </tr>\n",
       "  </thead>\n",
       "  <tbody>\n",
       "    <tr>\n",
       "      <th>0</th>\n",
       "      <td>Unknown</td>\n",
       "      <td>30/08/2021</td>\n",
       "      <td>16:14:44</td>\n",
       "    </tr>\n",
       "  </tbody>\n",
       "</table>\n",
       "</div>"
      ],
      "text/plain": [
       "    Person        Date      Time\n",
       "0  Unknown  30/08/2021  16:14:44"
      ]
     },
     "execution_count": 29,
     "metadata": {},
     "output_type": "execute_result"
    }
   ],
   "source": []
  },
  {
   "cell_type": "code",
   "execution_count": 67,
   "id": "a25a6c75-6c7d-4d32-a1b7-0f265587cbbe",
   "metadata": {},
   "outputs": [
    {
     "data": {
      "text/html": [
       "<div>\n",
       "<style scoped>\n",
       "    .dataframe tbody tr th:only-of-type {\n",
       "        vertical-align: middle;\n",
       "    }\n",
       "\n",
       "    .dataframe tbody tr th {\n",
       "        vertical-align: top;\n",
       "    }\n",
       "\n",
       "    .dataframe thead th {\n",
       "        text-align: right;\n",
       "    }\n",
       "</style>\n",
       "<table border=\"1\" class=\"dataframe\">\n",
       "  <thead>\n",
       "    <tr style=\"text-align: right;\">\n",
       "      <th></th>\n",
       "      <th>Person</th>\n",
       "      <th>Date</th>\n",
       "      <th>Time</th>\n",
       "    </tr>\n",
       "  </thead>\n",
       "  <tbody>\n",
       "    <tr>\n",
       "      <th>0</th>\n",
       "      <td>Ahmed barkeoui</td>\n",
       "      <td>30/08/2021</td>\n",
       "      <td>16:31:37</td>\n",
       "    </tr>\n",
       "    <tr>\n",
       "      <th>1</th>\n",
       "      <td>dorra khh</td>\n",
       "      <td>30/08/2021</td>\n",
       "      <td>16:14:34</td>\n",
       "    </tr>\n",
       "  </tbody>\n",
       "</table>\n",
       "</div>"
      ],
      "text/plain": [
       "            Person        Date      Time\n",
       "0  Ahmed barkeoui   30/08/2021  16:31:37\n",
       "1        dorra khh  30/08/2021  16:14:34"
      ]
     },
     "execution_count": 67,
     "metadata": {},
     "output_type": "execute_result"
    }
   ],
   "source": [
    "History_ = History.append(dict(zip(History.columns,['dorra khh', date_string,time_string])), ignore_index=True)\n",
    "History_"
   ]
  },
  {
   "cell_type": "code",
   "execution_count": 79,
   "id": "f8e3f2b7-cb77-49a8-8d45-559131f09acd",
   "metadata": {},
   "outputs": [
    {
     "name": "stdout",
     "output_type": "stream",
     "text": [
      "Empty DataFrame\n",
      "Columns: [Person, Date, Time]\n",
      "Index: []\n"
     ]
    }
   ],
   "source": [
    "from datetime import datetime\n",
    "History = pd.DataFrame(columns=['Person','Date','Time'])\n",
    "print(History)\n",
    "History.to_csv(\"../Libraries/History.csv\")"
   ]
  },
  {
   "cell_type": "code",
   "execution_count": 83,
   "id": "8533efe3-f3ed-4d32-8244-f18e322b9cc6",
   "metadata": {},
   "outputs": [
    {
     "data": {
      "text/html": [
       "<div>\n",
       "<style scoped>\n",
       "    .dataframe tbody tr th:only-of-type {\n",
       "        vertical-align: middle;\n",
       "    }\n",
       "\n",
       "    .dataframe tbody tr th {\n",
       "        vertical-align: top;\n",
       "    }\n",
       "\n",
       "    .dataframe thead th {\n",
       "        text-align: right;\n",
       "    }\n",
       "</style>\n",
       "<table border=\"1\" class=\"dataframe\">\n",
       "  <thead>\n",
       "    <tr style=\"text-align: right;\">\n",
       "      <th></th>\n",
       "      <th>Person</th>\n",
       "      <th>Date</th>\n",
       "      <th>Time</th>\n",
       "    </tr>\n",
       "  </thead>\n",
       "  <tbody>\n",
       "    <tr>\n",
       "      <th>0</th>\n",
       "      <td>Ahmed Barkeoui</td>\n",
       "      <td>29/08/2021</td>\n",
       "      <td>13:14:55</td>\n",
       "    </tr>\n",
       "    <tr>\n",
       "      <th>1</th>\n",
       "      <td>Oussayma khedher</td>\n",
       "      <td>30/08/2021</td>\n",
       "      <td>20:33:42</td>\n",
       "    </tr>\n",
       "    <tr>\n",
       "      <th>2</th>\n",
       "      <td>Achraf saad</td>\n",
       "      <td>30/08/2021</td>\n",
       "      <td>10:00:05</td>\n",
       "    </tr>\n",
       "    <tr>\n",
       "      <th>3</th>\n",
       "      <td>Yassine ben hamida</td>\n",
       "      <td>22/08/2021</td>\n",
       "      <td>14:54:55</td>\n",
       "    </tr>\n",
       "    <tr>\n",
       "      <th>4</th>\n",
       "      <td>Achref saad</td>\n",
       "      <td>12/08/2021</td>\n",
       "      <td>15:54:25</td>\n",
       "    </tr>\n",
       "    <tr>\n",
       "      <th>5</th>\n",
       "      <td>Eya gargah</td>\n",
       "      <td>12/08/2021</td>\n",
       "      <td>09:34:05</td>\n",
       "    </tr>\n",
       "  </tbody>\n",
       "</table>\n",
       "</div>"
      ],
      "text/plain": [
       "                Person        Date      Time\n",
       "0       Ahmed Barkeoui  29/08/2021  13:14:55\n",
       "1    Oussayma khedher   30/08/2021  20:33:42\n",
       "2          Achraf saad  30/08/2021  10:00:05\n",
       "3  Yassine ben hamida   22/08/2021  14:54:55\n",
       "4         Achref saad   12/08/2021  15:54:25\n",
       "5          Eya gargah   12/08/2021  09:34:05"
      ]
     },
     "execution_count": 83,
     "metadata": {},
     "output_type": "execute_result"
    }
   ],
   "source": [
    "import pandas as pd\n",
    "History = pd.read_csv(\"../Libraries/History.csv\" ,index_col=0)\n",
    "History"
   ]
  },
  {
   "cell_type": "code",
   "execution_count": 78,
   "id": "40f64507-2891-4d2a-8874-41733899a251",
   "metadata": {},
   "outputs": [
    {
     "data": {
      "text/plain": [
       "{'Unknown': ['30/08/2021', '16:43:05'],\n",
       " 'Cristiano ronaldo ': ['30/08/2021', '16:43:05'],\n",
       " 'Ahmed barkeoui ': ['30/08/2021', '16:43:05']}"
      ]
     },
     "execution_count": 78,
     "metadata": {},
     "output_type": "execute_result"
    }
   ],
   "source": [
    "History.set_index('Person').T.to_dict('list')"
   ]
  },
  {
   "cell_type": "code",
   "execution_count": 54,
   "id": "f3465b8c-b025-4b59-9b6a-d817a830839e",
   "metadata": {},
   "outputs": [
    {
     "data": {
      "text/html": [
       "<div>\n",
       "<style scoped>\n",
       "    .dataframe tbody tr th:only-of-type {\n",
       "        vertical-align: middle;\n",
       "    }\n",
       "\n",
       "    .dataframe tbody tr th {\n",
       "        vertical-align: top;\n",
       "    }\n",
       "\n",
       "    .dataframe thead th {\n",
       "        text-align: right;\n",
       "    }\n",
       "</style>\n",
       "<table border=\"1\" class=\"dataframe\">\n",
       "  <thead>\n",
       "    <tr style=\"text-align: right;\">\n",
       "      <th></th>\n",
       "      <th>Person</th>\n",
       "      <th>Date</th>\n",
       "      <th>Time</th>\n",
       "    </tr>\n",
       "  </thead>\n",
       "  <tbody>\n",
       "    <tr>\n",
       "      <th>0</th>\n",
       "      <td>Unknown</td>\n",
       "      <td>30/08/2021</td>\n",
       "      <td>16:22:05</td>\n",
       "    </tr>\n",
       "    <tr>\n",
       "      <th>1</th>\n",
       "      <td>Ahmed Barkeoui</td>\n",
       "      <td>29/08/2021</td>\n",
       "      <td>13:14:55</td>\n",
       "    </tr>\n",
       "    <tr>\n",
       "      <th>2</th>\n",
       "      <td>Oussayma khedher</td>\n",
       "      <td>30/08/2021</td>\n",
       "      <td>20:33:42</td>\n",
       "    </tr>\n",
       "    <tr>\n",
       "      <th>3</th>\n",
       "      <td>Achraf saad</td>\n",
       "      <td>30/08/2021</td>\n",
       "      <td>10:00:05</td>\n",
       "    </tr>\n",
       "    <tr>\n",
       "      <th>4</th>\n",
       "      <td>Yassine ben hamida</td>\n",
       "      <td>22/08/2021</td>\n",
       "      <td>14:54:55</td>\n",
       "    </tr>\n",
       "    <tr>\n",
       "      <th>5</th>\n",
       "      <td>Achref saad</td>\n",
       "      <td>12/08/2021</td>\n",
       "      <td>15:54:25</td>\n",
       "    </tr>\n",
       "    <tr>\n",
       "      <th>6</th>\n",
       "      <td>Eya gargah</td>\n",
       "      <td>12/08/2021</td>\n",
       "      <td>09:34:05</td>\n",
       "    </tr>\n",
       "    <tr>\n",
       "      <th>7</th>\n",
       "      <td>Efff</td>\n",
       "      <td>12/08/2021</td>\n",
       "      <td>09:34:05</td>\n",
       "    </tr>\n",
       "  </tbody>\n",
       "</table>\n",
       "</div>"
      ],
      "text/plain": [
       "                Person        Date      Time\n",
       "0              Unknown  30/08/2021  16:22:05\n",
       "1       Ahmed Barkeoui  29/08/2021  13:14:55\n",
       "2    Oussayma khedher   30/08/2021  20:33:42\n",
       "3          Achraf saad  30/08/2021  10:00:05\n",
       "4  Yassine ben hamida   22/08/2021  14:54:55\n",
       "5         Achref saad   12/08/2021  15:54:25\n",
       "6          Eya gargah   12/08/2021  09:34:05\n",
       "7                Efff   12/08/2021  09:34:05"
      ]
     },
     "execution_count": 54,
     "metadata": {},
     "output_type": "execute_result"
    }
   ],
   "source": [
    "Historyy = History.append(dict(zip(History.columns,['Efff ', '12/08/2021','09:34:05'])), ignore_index=True)\n",
    "Historyy"
   ]
  },
  {
   "cell_type": "code",
   "execution_count": null,
   "id": "c90d2fa9-af0a-4b5b-97a1-596841f4e9f6",
   "metadata": {},
   "outputs": [],
   "source": []
  }
 ],
 "metadata": {
  "kernelspec": {
   "display_name": "Python 3",
   "language": "python",
   "name": "python3"
  },
  "language_info": {
   "codemirror_mode": {
    "name": "ipython",
    "version": 3
   },
   "file_extension": ".py",
   "mimetype": "text/x-python",
   "name": "python",
   "nbconvert_exporter": "python",
   "pygments_lexer": "ipython3",
   "version": "3.9.5"
  }
 },
 "nbformat": 4,
 "nbformat_minor": 5
}
